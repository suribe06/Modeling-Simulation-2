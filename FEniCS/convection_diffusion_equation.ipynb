{
 "cells": [
  {
   "cell_type": "code",
   "execution_count": 7,
   "metadata": {},
   "outputs": [],
   "source": [
    "from fenics import *\n",
    "import matplotlib.pyplot as plt\n",
    "import numpy as np"
   ]
  },
  {
   "attachments": {},
   "cell_type": "markdown",
   "metadata": {},
   "source": [
    "Considere la siguiente ecuacion de conveccion-difusion:\n",
    "$$ \\begin{cases} \\frac{\\partial u}{\\partial t} + v \\cdot \\nabla u = D \\nabla^2 u, &\\text{ con }x\\in\\Omega \\\\ \n",
    "u(t,x,y) = 0,&\\text{ con }x\\in\\partial\\Omega\\\\\n",
    "u(0, x, y) = \\sin{(\\pi x)} \\cdot \\sin{(\\pi y)} \\end{cases}$$\n",
    "\n",
    "En donde $D \\in \\mathbb{R}$ y $v \\in \\mathbb{R}^2$, ademas:\n",
    "- $v \\cdot \\nabla u $: es el termino de transporte\n",
    "- $D \\nabla^2 u$: es el termino de difusion\n",
    "\n",
    "Sea $D = 0.1$ y $v = (1, 1)^T$. La formula variacional esta dada por:\n",
    "$$ \\frac{u^k - u^{k-1}}{dt} = D \\nabla^2 u^k - v \\cdot \\nabla u^k $$\n",
    "$$ u^k - u^{k-1} = dt (D \\nabla^2 u^k - v \\cdot \\nabla u^k)$$\n",
    "$$ \\int_{\\Omega} (u^k - u^{k-1})w \\, dx = dt \\int_{\\Omega} (D \\nabla^2 u^k - v \\cdot \\nabla u^k)w \\, dx $$\n",
    "$$ \\int_{\\Omega} w u^k - w u^{k-1} \\, dx = dt \\int_{\\Omega} D \\nabla^2 u^k w - (v \\cdot \\nabla u^k)w \\, dx$$\n",
    "Aplicando teorema de Green en la primera parte de la derecha obtenemos que:\n",
    "$$ \\int_{\\Omega} D \\nabla^2 u^k w \\, dx = - D \\int_{\\Omega} \\nabla u^k \\cdot \\nabla w \\, dx + \\int_{\\partial \\Omega} \\frac{\\partial u^k}{\\partial \\eta} w \\, dS$$\n",
    "Pero el ultimo termino es 0 pues $w$ se anula en la frontera, entonces:\n",
    "$$ \\int_{\\Omega} D \\nabla^2 u^k w \\, dx = -dt \\int_{\\Omega} D \\nabla u^k \\cdot \\nabla w + (v \\cdot \\nabla u^k)w \\, dx $$\n",
    "$$ \\int_{\\Omega} (u^k + dt(v \\cdot \\nabla u^k))w + dt D \\nabla u^k \\cdot \\nabla w \\, dx = \\int_{\\Omega} w u^{k-1} \\, dx $$"
   ]
  },
  {
   "cell_type": "code",
   "execution_count": 2,
   "metadata": {},
   "outputs": [
    {
     "name": "stdout",
     "output_type": "stream",
     "text": [
      "Calling FFC just-in-time (JIT) compiler, this may take some time.\n"
     ]
    }
   ],
   "source": [
    "fid = File(\"Convec_Diff/solution.pvd\")\n",
    "\n",
    "#Discretization\n",
    "T = 1.0 # final time\n",
    "num_steps = 50 # number of time steps\n",
    "dt = T / num_steps # time step size\n",
    "\n",
    "# Define mesh and function space\n",
    "nx = ny = 20\n",
    "#mesh = IntervalMesh(200, 0, np.pi)\n",
    "mesh = UnitSquareMesh(nx, ny)\n",
    "\n",
    "V = FunctionSpace(mesh, 'Lagrange', 1)\n",
    "\n",
    "## Define the boundary condition\n",
    "u_D = Constant(0.0)\n",
    "def boundary(x, on_boundary):\n",
    "    return on_boundary\n",
    "bc = DirichletBC(V, u_D, boundary)"
   ]
  },
  {
   "cell_type": "code",
   "execution_count": 6,
   "metadata": {},
   "outputs": [
    {
     "data": {
      "text/plain": [
       "Text(0.5, 1.0, '$u(t=0, x, y) = \\\\sin{(\\\\pi x)} \\\\cdot \\\\sin{(\\\\pi y)}$')"
      ]
     },
     "execution_count": 6,
     "metadata": {},
     "output_type": "execute_result"
    },
    {
     "data": {
      "image/png": "[encoded data removed]",
      "text/plain": [
       "<Figure size 432x288 with 1 Axes>"
      ]
     },
     "metadata": {
      "needs_background": "light"
     },
     "output_type": "display_data"
    }
   ],
   "source": [
    "# The initial condition, u(t=0, x, y) = sin(pi * x) * sin(pi * y)\n",
    "initial_condition = Expression(\"sin(3.141 * x[0]) * sin(3.141 * x[1])\",degree=1)\n",
    "u_old = interpolate(initial_condition,V)\n",
    "plt.figure()\n",
    "plot(u_old, label=\"t=0.0\")\n",
    "plt.title('$u(t=0, x, y) = \\sin{(\\pi x)} \\cdot \\sin{(\\pi y)}$')"
   ]
  },
  {
   "cell_type": "code",
   "execution_count": 8,
   "metadata": {},
   "outputs": [
    {
     "name": "stdout",
     "output_type": "stream",
     "text": [
      "Calling FFC just-in-time (JIT) compiler, this may take some time.\n",
      "Calling FFC just-in-time (JIT) compiler, this may take some time.\n",
      "Calling FFC just-in-time (JIT) compiler, this may take some time.\n",
      "Calling FFC just-in-time (JIT) compiler, this may take some time.\n",
      "Calling FFC just-in-time (JIT) compiler, this may take some time.\n",
      "Solving linear variational problem.\n",
      "time = 0.02: error = 0.0814\n",
      "Solving linear variational problem.\n",
      "time = 0.04: error = 0.0776\n",
      "Solving linear variational problem.\n",
      "time = 0.06: error = 0.0734\n",
      "Solving linear variational problem.\n",
      "time = 0.08: error = 0.0693\n",
      "Solving linear variational problem.\n",
      "time = 0.10: error = 0.0657\n",
      "Solving linear variational problem.\n",
      "time = 0.12: error = 0.0616\n",
      "Solving linear variational problem.\n",
      "time = 0.14: error = 0.0584\n",
      "Solving linear variational problem.\n",
      "time = 0.16: error = 0.0549\n",
      "Solving linear variational problem.\n",
      "time = 0.18: error = 0.0519\n",
      "Solving linear variational problem.\n",
      "time = 0.20: error = 0.0491\n",
      "Solving linear variational problem.\n",
      "time = 0.22: error = 0.0462\n",
      "Solving linear variational problem.\n",
      "time = 0.24: error = 0.0439\n",
      "Solving linear variational problem.\n",
      "time = 0.26: error = 0.0416\n",
      "Solving linear variational problem.\n",
      "time = 0.28: error = 0.0393\n",
      "Solving linear variational problem.\n",
      "time = 0.30: error = 0.0375\n",
      "Solving linear variational problem.\n",
      "time = 0.32: error = 0.0356\n",
      "Solving linear variational problem.\n",
      "time = 0.34: error = 0.0338\n",
      "Solving linear variational problem.\n",
      "time = 0.36: error = 0.0323\n",
      "Solving linear variational problem.\n",
      "time = 0.38: error = 0.0307\n",
      "Solving linear variational problem.\n",
      "time = 0.40: error = 0.0292\n",
      "Solving linear variational problem.\n",
      "time = 0.42: error = 0.0279\n",
      "Solving linear variational problem.\n",
      "time = 0.44: error = 0.0264\n",
      "Solving linear variational problem.\n",
      "time = 0.46: error = 0.0249\n",
      "Solving linear variational problem.\n",
      "time = 0.48: error = 0.0237\n",
      "Solving linear variational problem.\n",
      "time = 0.50: error = 0.0224\n",
      "Solving linear variational problem.\n",
      "time = 0.52: error = 0.0211\n",
      "Solving linear variational problem.\n",
      "time = 0.54: error = 0.0198\n",
      "Solving linear variational problem.\n",
      "time = 0.56: error = 0.0184\n",
      "Solving linear variational problem.\n",
      "time = 0.58: error = 0.0171\n",
      "Solving linear variational problem.\n",
      "time = 0.60: error = 0.0158\n",
      "Solving linear variational problem.\n",
      "time = 0.62: error = 0.0147\n",
      "Solving linear variational problem.\n",
      "time = 0.64: error = 0.0136\n",
      "Solving linear variational problem.\n",
      "time = 0.66: error = 0.0125\n",
      "Solving linear variational problem.\n",
      "time = 0.68: error = 0.0115\n",
      "Solving linear variational problem.\n",
      "time = 0.70: error = 0.0106\n",
      "Solving linear variational problem.\n",
      "time = 0.72: error = 0.0097\n",
      "Solving linear variational problem.\n",
      "time = 0.74: error = 0.00886\n",
      "Solving linear variational problem.\n",
      "time = 0.76: error = 0.00807\n",
      "Solving linear variational problem.\n",
      "time = 0.78: error = 0.00734\n",
      "Solving linear variational problem.\n",
      "time = 0.80: error = 0.00666\n",
      "Solving linear variational problem.\n",
      "time = 0.82: error = 0.00603\n",
      "Solving linear variational problem.\n",
      "time = 0.84: error = 0.00545\n",
      "Solving linear variational problem.\n",
      "time = 0.86: error = 0.00492\n",
      "Solving linear variational problem.\n",
      "time = 0.88: error = 0.00443\n",
      "Solving linear variational problem.\n",
      "time = 0.90: error = 0.00399\n",
      "Solving linear variational problem.\n",
      "time = 0.92: error = 0.00359\n",
      "Solving linear variational problem.\n",
      "time = 0.94: error = 0.00322\n",
      "Solving linear variational problem.\n",
      "time = 0.96: error = 0.00289\n",
      "Solving linear variational problem.\n",
      "time = 0.98: error = 0.00258\n",
      "Solving linear variational problem.\n",
      "time = 1.00: error = 0.00231\n"
     ]
    },
    {
     "data": {
      "image/png": "[encoded data removed]",
      "text/plain": [
       "<Figure size 432x288 with 1 Axes>"
      ]
     },
     "metadata": {
      "needs_background": "light"
     },
     "output_type": "display_data"
    }
   ],
   "source": [
    "# Define the variational problem\n",
    "D = Constant(0.1)\n",
    "v = Expression(('1.0','1.0'), degree = 1)\n",
    "u = TrialFunction(V)\n",
    "w = TestFunction(V)\n",
    "\n",
    "a = ((u + dt * inner(v, nabla_grad(u))) * w + dt * D * inner(nabla_grad(u), nabla_grad(w))) * dx\n",
    "L = w * u_old * dx\n",
    "\n",
    "# Time-stepping\n",
    "u = Function(V)\n",
    "t = 0\n",
    "while t <= T:\n",
    "    # Update time\n",
    "    t += dt\n",
    "    u_old.t = t\n",
    "    # Solve variational problem at current time step\n",
    "    solve(a == L, u, bc)\n",
    "    # Plot solution\n",
    "    plot(u)\n",
    "    # Compute error at vertices\n",
    "    u_e = interpolate(u_old, V)\n",
    "    error = np.abs(u_e.vector().get_local() - u.vector().get_local()).max()\n",
    "    print('time = %.2f: error = %.3g' % (t, error))\n",
    "    # Update previous solution\n",
    "    u_old.assign(u)\n",
    "    # Save solution through time to visualize in paraview\n",
    "    fid << u, t\n"
   ]
  }
 ],
 "metadata": {
  "kernelspec": {
   "display_name": "fenicsmshr",
   "language": "python",
   "name": "python3"
  },
  "language_info": {
   "codemirror_mode": {
    "name": "ipython",
    "version": 3
   },
   "file_extension": ".py",
   "mimetype": "text/x-python",
   "name": "python",
   "nbconvert_exporter": "python",
   "pygments_lexer": "ipython3",
   "version": "3.8.15"
  },
  "orig_nbformat": 4,
  "vscode": {
   "interpreter": {
    "hash": "f6c9a02d1e49f2feb0acb21ff4b60ef8b8b9773bb7d605f77519aeb93141fee4"
   }
  }
 },
 "nbformat": 4,
 "nbformat_minor": 2
}
