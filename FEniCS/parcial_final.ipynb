{
 "cells": [
  {
   "cell_type": "code",
   "execution_count": 103,
   "metadata": {},
   "outputs": [],
   "source": [
    "from fenics import *\n",
    "import matplotlib.pyplot as plt\n",
    "from mshr import *"
   ]
  },
  {
   "attachments": {},
   "cell_type": "markdown",
   "metadata": {},
   "source": [
    "# Tercer Parcial Modelización y Simulación II\n",
    "## Javeriana Cali\n",
    "## Matemáticas Aplicadas\n",
    "### 2023-1 \n",
    "\n",
    "**Fecha máxima de entrega**: 26 de mayo de 2023 11:59 pm\n"
   ]
  },
  {
   "attachments": {},
   "cell_type": "markdown",
   "metadata": {},
   "source": [
    "1. Usando el método de las caracteristicas resuelva la ecuación \n",
    "\n",
    "$$u_t-x^2u_x=0\\, \\, x\\in R \\text{ y } t>0$$\n",
    "$$u(x,0)=x+1,\\ \\ \\ x\\in R$$ \n",
    "Dibuje la solución en el espacio $(x,t)$\n",
    "\n"
   ]
  },
  {
   "attachments": {},
   "cell_type": "markdown",
   "metadata": {},
   "source": [
    "2. Sea la siguiente ecuación del calor en 2D\n",
    "\n",
    "\n",
    "\n",
    "$$u_{t} = \\nabla^2u+f(x,y)=(u_{xx} + u_{yy})+f(x,y,t),$$\n",
    "con condición\n",
    "$$u(x,y,0) = \\sin(2\\pi x+2\\pi y),$$\n",
    "$$u(0,y,t) =sin(2\\pi y)+1−\\cos(2\\pi t)\\,\\,0\\leq y\\leq 1,t\\geq 0$$\n",
    "$$u(1,y,t)=sin(\\pi(2y+2))+1−\\cos(2\\pi t)\\,\\,0\\leq y\\leq 1,t\\geq 0$$\n",
    "$$u(x,0,t) =sin(2\\pi y)+1−\\cos(2\\pi t)\\,\\,0\\leq x\\leq 1,t\\geq 0$$\n",
    "$$u(x,1,t)= sin(\\pi(2y+2))+1−\\cos(2\\pi t)\\,\\,0\\leq x\\leq 1,t\\geq 0$$\n",
    "$\\Omega=[0,1]\\times[0,1]$.\n",
    "y\n",
    "$$f(x,y,t)=\\displaystyle 2 \\pi \\sin{\\left(2 \\pi t \\right)} + 8 \\pi^{2} \\sin{\\left(\\pi \\left(2 x + 2 y\\right) \\right)},$$\n",
    "\n",
    "El método $\\theta$ para resolver la ecuación del calor es\n",
    "\n",
    "$$u_t-\\nabla^2 u=f\\,\\, en\\, \\Omega\\times(0,T)$$\n",
    "\n",
    "$$u=u_0 \\,\\, en\\, \\partial\\Omega\\times{\\{0\\}}$$\n",
    "\n",
    "$$\\frac{1}{\\Delta t}\\Big(u^{n+1}-u^n\\Big)+\\theta\\Delta u^{n+1}-(1-\\theta)\\Delta u^n=\\theta f(t_{n+1})+(1-\\theta)f(t_{n})$$\n",
    "\n",
    "Haga un análisis de convergencia numérica, para $\\theta=0,1/2,2/3,1$, para ello encuentre el error $||\\cdot||_2$ de diferentes mallas y en el mismo tiempo final $T=1$.\n",
    "Luego encuentre el orden de convergencia numérica. Para ello recuerde que $$E=||u-u_h||_2\\leq Ch^p$$ donde $p$ es el orden de convergencia numérica.\n",
    "Note que la solución analítica del problema es  \n",
    "\n",
    "$$\\sin(2\\pi x+2\\pi y)−\\cos(2\\pi t)+1$$"
   ]
  },
  {
   "attachments": {},
   "cell_type": "markdown",
   "metadata": {},
   "source": [
    "R/ Primero debemos encontrar la formula variacional del problema:\n",
    "\n",
    "$$ u_t - \\Delta u = f \\\\\n",
    "\\frac{u^{n+1} - u^n}{dt} - \\theta \\Delta u^{n+1} - (1- \\theta)\\Delta u^n = \\theta f(t_{n+1})+(1-\\theta)f(t_{n})\\\\\n",
    "u^{n+1} - u^n - dt \\theta \\Delta u^{n+1} - dt (1-\\theta) \\Delta u^n = dt \\theta f(t_{n+1}) + dt(1-\\theta)f(t_{n})\\\\\n",
    "\\int_{\\Omega} v u^{n+1} - dt \\theta v\\Delta u^{n+1} \\, dx = \\int_{\\Omega} v u^n + dt(1-\\theta) \\Delta u^n v \\, dx + dt \\int_{\\Omega} (\\theta f(t_{n+1})+(1-\\theta)f(t_{n}))v \\, dx \n",
    "$$\n",
    "Aplicando Teorema de Green en los laplacianos, la integral de superficie es 0 pues la funcion test se anula en la frontera, por la tanto la formula variacional queda:\n",
    "$$ \\int_{\\Omega} u^{n+1}v + dt \\theta (\\nabla u^{n+1} \\cdot \\nabla v) \\, dx = \\int_{\\Omega} (u^n + dt \\theta f(t_{n+1}) + dt(1-\\theta)f(t_n))v - dt(1-\\theta)(\\nabla u^n \\cdot \\nabla v) \\, dx $$\n"
   ]
  },
  {
   "cell_type": "code",
   "execution_count": 104,
   "metadata": {},
   "outputs": [],
   "source": [
    "# Define mesh and function space\n",
    "domain = Rectangle(Point(0, 0), Point(1, 1))\n",
    "mesh = generate_mesh(domain, 100)\n",
    "\n",
    "#Discretization\n",
    "T = 1.0 # final time\n",
    "num_steps = 100 # number of time steps\n",
    "dt = T / num_steps # time step size\n",
    "\n",
    "V = FunctionSpace(mesh, 'Lagrange', 1)\n",
    "\n",
    "# Define functions for boundary conditions\n",
    "t = 0\n",
    "u_D_top = Expression('sin(2*pi*(x[0]+1)) + 1 - cos(2*pi*t)',degree=2, t=t) #y=1\n",
    "u_D_bottom = Expression('sin(2*pi*x[0]) + 1 - cos(2*pi*t)',degree=2, t=t) #y=0\n",
    "u_D_left = Expression('sin(2*pi*x[1]) + 1 - cos(2*pi*t)',degree=2, t=t) #x=0\n",
    "u_D_right = Expression('sin(2*pi*(x[1]+1)) + 1 - cos(2*pi*t)',degree=2, t=t) # x=1\n",
    "\n",
    "# Define the boundary condition\n",
    "def boundary_top(x, on_boundary):\n",
    "    return on_boundary and near(x[1], 1.0)\n",
    "def boundary_bottom(x, on_boundary):\n",
    "    return on_boundary and near(x[1], 0.0)\n",
    "def boundary_left(x, on_boundary):\n",
    "    return on_boundary and near(x[0], 0.0)\n",
    "def boundary_right(x, on_boundary):\n",
    "    return on_boundary and near(x[0], 1.0)\n",
    "\n",
    "bc_top = DirichletBC(V, u_D_top, boundary_top)\n",
    "bc_bottom = DirichletBC(V, u_D_bottom, boundary_bottom)\n",
    "bc_left = DirichletBC(V, u_D_left, boundary_left)\n",
    "bc_right = DirichletBC(V, u_D_right, boundary_right)\n",
    "\n",
    "bc = [bc_top, bc_bottom, bc_left, bc_right]"
   ]
  },
  {
   "cell_type": "code",
   "execution_count": 105,
   "metadata": {},
   "outputs": [
    {
     "data": {
      "text/plain": [
       "<matplotlib.colorbar.Colorbar at 0x7fed2fe828e0>"
      ]
     },
     "execution_count": 105,
     "metadata": {},
     "output_type": "execute_result"
    },
    {
     "data": {
      "image/png": "[encoded data removed]",
      "text/plain": [
       "<Figure size 432x288 with 2 Axes>"
      ]
     },
     "metadata": {
      "needs_background": "light"
     },
     "output_type": "display_data"
    }
   ],
   "source": [
    "# The initial condition t=0. u(x,y,0) = sin(2*pi*(x + y))\n",
    "initial_condition = Expression(\"sin(2*pi*(x[0] + x[1]))\",degree=2)\n",
    "u_k_old = interpolate(initial_condition,V)\n",
    "p = plot(u_k_old)\n",
    "plt.colorbar(p)"
   ]
  },
  {
   "cell_type": "code",
   "execution_count": 106,
   "metadata": {},
   "outputs": [],
   "source": [
    "# Define the variational problem\n",
    "u = TrialFunction(V)\n",
    "v = TestFunction(V)\n",
    "theta = 1\n",
    "# f(x,y,t)= 2*pi*sin(2*pi*t) + 8*pi^2 * sin(2*pi*(x + y))\n",
    "exp = Expression('2*pi*sin(2*pi*t) + 8*pi*pi * sin(2*pi*(x[0] + x[1]))',degree=2, t=t)\n",
    "f_old = exp\n",
    "f = exp\n",
    "a = (u*v + dt*theta*inner(nabla_grad(u), nabla_grad(v)))*dx\n",
    "L = ((u_k_old + dt*theta*f + dt*(1-theta)*f_old)*v - dt*(1-theta)*inner(nabla_grad(u_k_old), nabla_grad(v)))*dx"
   ]
  },
  {
   "cell_type": "code",
   "execution_count": 107,
   "metadata": {},
   "outputs": [
    {
     "data": {
      "text/plain": [
       "<matplotlib.colorbar.Colorbar at 0x7fed2fd46e80>"
      ]
     },
     "execution_count": 107,
     "metadata": {},
     "output_type": "execute_result"
    },
    {
     "data": {
      "image/png": "[encoded data removed]",
      "text/plain": [
       "<Figure size 432x288 with 2 Axes>"
      ]
     },
     "metadata": {
      "needs_background": "light"
     },
     "output_type": "display_data"
    }
   ],
   "source": [
    "u_exact = Expression('sin(2*pi*(x[0] + x[1])) - cos(2*pi*t) + 1',degree=2, t=t)\n",
    "u_e = interpolate(u_exact, V)\n",
    "p = plot(u_e)\n",
    "plt.colorbar(p)"
   ]
  },
  {
   "cell_type": "code",
   "execution_count": 108,
   "metadata": {},
   "outputs": [
    {
     "name": "stdout",
     "output_type": "stream",
     "text": [
      "*** Warning: Degree of exact solution may be inadequate for accurate result in errornorm.\n",
      "5.177645470662003e-17\n"
     ]
    }
   ],
   "source": [
    "# Error at t=0\n",
    "error_L2 = errornorm(interpolate(initial_condition,V), interpolate(u_exact, V))\n",
    "print(error_L2)"
   ]
  },
  {
   "cell_type": "code",
   "execution_count": 109,
   "metadata": {},
   "outputs": [
    {
     "name": "stdout",
     "output_type": "stream",
     "text": [
      "Solving linear variational problem.\n",
      "Solving linear variational problem.\n",
      "Solving linear variational problem.\n",
      "Solving linear variational problem.\n",
      "Solving linear variational problem.\n",
      "Solving linear variational problem.\n",
      "Solving linear variational problem.\n",
      "Solving linear variational problem.\n",
      "Solving linear variational problem.\n",
      "Solving linear variational problem.\n",
      "Solving linear variational problem.\n",
      "Solving linear variational problem.\n",
      "Solving linear variational problem.\n",
      "Solving linear variational problem.\n",
      "Solving linear variational problem.\n",
      "Solving linear variational problem.\n",
      "Solving linear variational problem.\n",
      "Solving linear variational problem.\n",
      "Solving linear variational problem.\n",
      "Solving linear variational problem.\n",
      "Solving linear variational problem.\n",
      "Solving linear variational problem.\n",
      "Solving linear variational problem.\n",
      "Solving linear variational problem.\n",
      "Solving linear variational problem.\n",
      "Solving linear variational problem.\n",
      "Solving linear variational problem.\n",
      "Solving linear variational problem.\n",
      "Solving linear variational problem.\n",
      "Solving linear variational problem.\n",
      "Solving linear variational problem.\n",
      "Solving linear variational problem.\n",
      "Solving linear variational problem.\n",
      "Solving linear variational problem.\n",
      "Solving linear variational problem.\n",
      "Solving linear variational problem.\n",
      "Solving linear variational problem.\n",
      "Solving linear variational problem.\n",
      "Solving linear variational problem.\n",
      "Solving linear variational problem.\n",
      "Solving linear variational problem.\n",
      "Solving linear variational problem.\n",
      "Solving linear variational problem.\n",
      "Solving linear variational problem.\n",
      "Solving linear variational problem.\n",
      "Solving linear variational problem.\n",
      "Solving linear variational problem.\n",
      "Solving linear variational problem.\n",
      "Solving linear variational problem.\n",
      "Solving linear variational problem.\n",
      "Solving linear variational problem.\n",
      "Solving linear variational problem.\n",
      "Solving linear variational problem.\n",
      "Solving linear variational problem.\n",
      "Solving linear variational problem.\n",
      "Solving linear variational problem.\n",
      "Solving linear variational problem.\n",
      "Solving linear variational problem.\n",
      "Solving linear variational problem.\n",
      "Solving linear variational problem.\n",
      "Solving linear variational problem.\n",
      "Solving linear variational problem.\n",
      "Solving linear variational problem.\n",
      "Solving linear variational problem.\n",
      "Solving linear variational problem.\n",
      "Solving linear variational problem.\n",
      "Solving linear variational problem.\n",
      "Solving linear variational problem.\n",
      "Solving linear variational problem.\n",
      "Solving linear variational problem.\n",
      "Solving linear variational problem.\n",
      "Solving linear variational problem.\n",
      "Solving linear variational problem.\n",
      "Solving linear variational problem.\n",
      "Solving linear variational problem.\n",
      "Solving linear variational problem.\n",
      "Solving linear variational problem.\n",
      "Solving linear variational problem.\n",
      "Solving linear variational problem.\n",
      "Solving linear variational problem.\n",
      "Solving linear variational problem.\n",
      "Solving linear variational problem.\n",
      "Solving linear variational problem.\n",
      "Solving linear variational problem.\n",
      "Solving linear variational problem.\n",
      "Solving linear variational problem.\n",
      "Solving linear variational problem.\n",
      "Solving linear variational problem.\n",
      "Solving linear variational problem.\n",
      "Solving linear variational problem.\n",
      "Solving linear variational problem.\n",
      "Solving linear variational problem.\n",
      "Solving linear variational problem.\n",
      "Solving linear variational problem.\n",
      "Solving linear variational problem.\n",
      "Solving linear variational problem.\n",
      "Solving linear variational problem.\n",
      "Solving linear variational problem.\n",
      "Solving linear variational problem.\n",
      "Solving linear variational problem.\n"
     ]
    },
    {
     "data": {
      "text/plain": [
       "<matplotlib.colorbar.Colorbar at 0x7fed2c77f310>"
      ]
     },
     "execution_count": 109,
     "metadata": {},
     "output_type": "execute_result"
    },
    {
     "data": {
      "image/png": "[encoded data removed]",
      "text/plain": [
       "<Figure size 432x288 with 2 Axes>"
      ]
     },
     "metadata": {
      "needs_background": "light"
     },
     "output_type": "display_data"
    }
   ],
   "source": [
    "fid = File(\"parcial3/heat/solution.pvd\")\n",
    "# Time-stepping\n",
    "u = Function(V)\n",
    "t = 0\n",
    "while t <= T:\n",
    "    # Update time\n",
    "    t += dt\n",
    "    # Update time for boundary conditions\n",
    "    u_D_top.t = t\n",
    "    u_D_bottom.t = t\n",
    "    u_D_left.t = t\n",
    "    u_D_right.t = t\n",
    "    # Update time for the fs\n",
    "    f_old.t = t - dt\n",
    "    f.t = t\n",
    "    # Update time for exact solution\n",
    "    u_e.t = t \n",
    "    # Solve variational problem at current time step\n",
    "    solve(a == L, u, bc)\n",
    "    # Plot solution\n",
    "    p = plot(u)\n",
    "    # Calculate error\n",
    "    #e = errornorm(u, u_e, 'L2') #error at current time\n",
    "    #errors.append(e)\n",
    "    # Update previous solution\n",
    "    u_k_old.assign(u)\n",
    "    fid << u, t\n",
    "plt.colorbar(p)"
   ]
  },
  {
   "attachments": {},
   "cell_type": "markdown",
   "metadata": {},
   "source": [
    "$$ E = \\sqrt{\\int_{\\Omega} (u - u_h)^ 2 \\, dx} $$"
   ]
  },
  {
   "cell_type": "code",
   "execution_count": 110,
   "metadata": {},
   "outputs": [
    {
     "data": {
      "text/plain": [
       "5.3183088628190536e-05"
      ]
     },
     "execution_count": 110,
     "metadata": {},
     "output_type": "execute_result"
    }
   ],
   "source": [
    "# Error at final time\n",
    "e = u - u_e\n",
    "assemble(e**2*dx(mesh))"
   ]
  },
  {
   "attachments": {},
   "cell_type": "markdown",
   "metadata": {},
   "source": [
    "# Ecuación de onda\n",
    "\n",
    "Sea la ecuación de onda en 2D\n",
    "\n",
    "$$u_{tt} = \\nabla^2u + f(x,y,t),$$\n",
    "con\n",
    "$$f(x,y,t)=−4\\pi^2x^2\\cos(2\\pi xy)-4\\pi^2y^2 \\cos(2\\pi x y)-4\\pi^2\\sin(2\\pi t)$$\n",
    "\n",
    "$$u(x,y,0) = \\displaystyle 1 - \\cos{\\left(2 \\pi x y \\right)},$$\n",
    "$$u_t(x,y,0) =2\\pi,$$\n",
    "\n",
    "y condiciones de frontera\n",
    "$u|_{\\partial \\Omega}=\\sin(2\\pi t)$ con $\\Omega=[0,1]\\times[0,1]$.\n",
    "\n",
    "El problema numérico es\n",
    "$$u_{tt}-\\Delta u=f\\,\\, in\\,\\Omega\\times(0,T]$$\n",
    "\n",
    "$$u=0\\,\\, on\\,\\partial\\Omega\\times(0,T]$$\n",
    "$$u(\\cdot,t)=u_0\\,\\, in\\,\\Omega$$\n",
    "$$u_t(\\cdot,t)=g\\,\\, in\\,\\Omega$$\n",
    "\n",
    "$$\\frac{1}{(\\Delta t)^2} \\Big(u^{n+1}-2u^n+u^{n-1}\\Big)-\\frac{1}{2}\\Delta(u^{n+1}+u^{n-1})= f(t^n)$$\n",
    "\n",
    "with $u¹=u^0+u_t\\Delta t$.\n",
    "\n",
    "La solución analítica del problema es \n",
    "\n",
    "$$u(x,y,t)=\\sin(2\\pi t)+1-\\cos(2\\pi xy)$$\n",
    "\n",
    "Haga un análisis de convergencia numérica, para ello encuentre el error $||\\cdot||_2$ de diferentes mallas y en el mismo tiempo final $T=1$. Luego encuentre el orden de convergencia numérica. Para ello recuerde que $$E=||u-u_h||_2\\leq Ch^p$$ donde $p$ es el orden de convergencia numérica.\n"
   ]
  },
  {
   "attachments": {},
   "cell_type": "markdown",
   "metadata": {},
   "source": [
    "Primero debemos calcular la formula variacional:\n",
    "$$ \n",
    "u_{tt} = \\Delta u + f\\\\\n",
    "\\frac{u^{k+2} - 2u^{k+1} + u^k}{dt^2} = \\frac{1}{2} \\Delta (u^{k+2} + u^k) + f(t_n)\\\\\n",
    "\\int_{\\Omega} vu^{k+2} - 2vu^{k+1} + vu^k \\, dx = dt^2 \\int_{\\Omega} \\frac{1}{2} \\Delta(u^{k+2} + u^k)v + vf(t_n) \\, dx\n",
    "$$\n",
    "Aplicando Teorema de Green en el laplaciano obtenemos que:\n",
    "$$\n",
    "\\int_{\\Omega} \\Delta(u^{k+2} + u^k)v \\, dx = - \\int_{\\Omega} \\nabla(u^{k+2} + u^k)\\cdot \\nabla v \\, dx\\\\\n",
    "\\int_{\\Omega} \\Delta(u^{k+2} + u^k)v \\, dx = - \\int_{\\Omega} \\nabla u^{k+2} \\cdot \\nabla v + \\nabla u^k \\cdot \\nabla v \\, dx\n",
    "$$\n",
    "Entonces:\n",
    "$$\n",
    "\\int_{\\Omega} vu^{k+2} - 2vu^{k+1} + vu^k \\, dx = dt^2 \\int_{\\Omega} vf(t_n) - \\frac{1}{2}(\\nabla u^{k+2} \\cdot \\nabla v + \\nabla u^k \\cdot \\nabla v) \\, dx\\\\\n",
    "\\int_{\\Omega} vu^{k+2} + \\frac{dt^2}{2}(\\nabla u^{k+2} \\cdot \\nabla v) \\, dx = \\int_{\\Omega} (dt^2 f(t_n) + 2u^{k+1} - u^k)v - \\frac{dt^2}{2}(\\nabla u^k \\cdot \\nabla v) \\, dx\n",
    "$$"
   ]
  },
  {
   "cell_type": "code",
   "execution_count": 111,
   "metadata": {},
   "outputs": [],
   "source": [
    "# Define mesh and function space\n",
    "domain = Rectangle(Point(0, 0), Point(1, 1))\n",
    "mesh = generate_mesh(domain, 100)\n",
    "\n",
    "#Discretization\n",
    "T = 1.0 # final time\n",
    "num_steps = 100 # number of time steps\n",
    "dt = T / num_steps # time step size\n",
    "\n",
    "V = FunctionSpace(mesh, 'Lagrange', 1)"
   ]
  },
  {
   "cell_type": "code",
   "execution_count": 112,
   "metadata": {},
   "outputs": [
    {
     "data": {
      "text/plain": [
       "<matplotlib.colorbar.Colorbar at 0x7fed2c486520>"
      ]
     },
     "execution_count": 112,
     "metadata": {},
     "output_type": "execute_result"
    },
    {
     "data": {
      "image/png": "[encoded data removed]",
      "text/plain": [
       "<Figure size 432x288 with 2 Axes>"
      ]
     },
     "metadata": {
      "needs_background": "light"
     },
     "output_type": "display_data"
    }
   ],
   "source": [
    "fid = File(\"parcial3/wave/solution.pvd\")\n",
    "\n",
    "# Define the boundary condition\n",
    "u_D = Constant(0.0)\n",
    "def boundary(x, on_boundary):\n",
    "    return on_boundary\n",
    "bc = DirichletBC(V, u_D, boundary)\n",
    "\n",
    "# The initial condition t=0. u(x,y,0) = 1 - cos(2*pi*x*y)\n",
    "initial_condition = Expression(\"1 - cos(2*pi*x[0]*x[1])\",degree=2)\n",
    "u_k = interpolate(initial_condition,V)\n",
    "p = plot(u_k)\n",
    "plt.colorbar(p)"
   ]
  },
  {
   "cell_type": "code",
   "execution_count": 113,
   "metadata": {},
   "outputs": [
    {
     "data": {
      "text/plain": [
       "<matplotlib.colorbar.Colorbar at 0x7fed2c3570a0>"
      ]
     },
     "execution_count": 113,
     "metadata": {},
     "output_type": "execute_result"
    },
    {
     "data": {
      "image/png": "[encoded data removed]",
      "text/plain": [
       "<Figure size 432x288 with 2 Axes>"
      ]
     },
     "metadata": {
      "needs_background": "light"
     },
     "output_type": "display_data"
    }
   ],
   "source": [
    "# u^1 = u^0 + g(x,y) * dt\n",
    "u_k1 = Expression(\"1 - cos(2*pi*x[0]*x[1]) + 2*pi*dt\",degree=2, dt=dt)\n",
    "u_k1 = interpolate(u_k1,V)\n",
    "p = plot(u_k1)\n",
    "plt.colorbar(p)"
   ]
  },
  {
   "cell_type": "code",
   "execution_count": 114,
   "metadata": {},
   "outputs": [],
   "source": [
    "# Define varational problem\n",
    "u_k2 = TrialFunction(V)\n",
    "v = TestFunction(V)\n",
    "t = 0\n",
    "f = Expression(\"-4*pi*pi*cos(2*pi*x[0]*x[1])*(x[0]*x[0] + x[1]*x[1]) - 4*pi*pi*sin(2*pi*t)\",degree=2, t=t)\n",
    "\n",
    "a = (v*u_k2 + (dt*dt/2)*inner(nabla_grad(u_k2),nabla_grad(v)))*dx\n",
    "L = ((dt*dt*f + 2*u_k1 - u_k)*v - (dt*dt/2)*inner(nabla_grad(u_k),nabla_grad(v)))*dx"
   ]
  },
  {
   "cell_type": "code",
   "execution_count": 115,
   "metadata": {},
   "outputs": [
    {
     "data": {
      "text/plain": [
       "<matplotlib.colorbar.Colorbar at 0x7fed2c19a9d0>"
      ]
     },
     "execution_count": 115,
     "metadata": {},
     "output_type": "execute_result"
    },
    {
     "data": {
      "image/png": "[encoded data removed]",
      "text/plain": [
       "<Figure size 432x288 with 2 Axes>"
      ]
     },
     "metadata": {
      "needs_background": "light"
     },
     "output_type": "display_data"
    }
   ],
   "source": [
    "u_exact = Expression('sin(2*pi*t) + 1 - cos(2*pi*x[0]*x[1])',degree=2, t=t)\n",
    "u_e = interpolate(u_exact, V)\n",
    "p = plot(u_e)\n",
    "plt.colorbar(p)"
   ]
  },
  {
   "cell_type": "code",
   "execution_count": 116,
   "metadata": {},
   "outputs": [
    {
     "name": "stdout",
     "output_type": "stream",
     "text": [
      "*** Warning: Degree of exact solution may be inadequate for accurate result in errornorm.\n",
      "0.0\n"
     ]
    }
   ],
   "source": [
    "# Error at t=0\n",
    "error_L2 = errornorm(interpolate(initial_condition,V), interpolate(u_exact, V))\n",
    "print(error_L2)"
   ]
  },
  {
   "cell_type": "code",
   "execution_count": 117,
   "metadata": {},
   "outputs": [
    {
     "name": "stdout",
     "output_type": "stream",
     "text": [
      "Solving linear variational problem.\n",
      "Solving linear variational problem.\n",
      "Solving linear variational problem.\n",
      "Solving linear variational problem.\n",
      "Solving linear variational problem.\n",
      "Solving linear variational problem.\n",
      "Solving linear variational problem.\n",
      "Solving linear variational problem.\n",
      "Solving linear variational problem.\n",
      "Solving linear variational problem.\n",
      "Solving linear variational problem.\n",
      "Solving linear variational problem.\n",
      "Solving linear variational problem.\n",
      "Solving linear variational problem.\n",
      "Solving linear variational problem.\n",
      "Solving linear variational problem.\n",
      "Solving linear variational problem.\n",
      "Solving linear variational problem.\n",
      "Solving linear variational problem.\n",
      "Solving linear variational problem.\n",
      "Solving linear variational problem.\n",
      "Solving linear variational problem.\n",
      "Solving linear variational problem.\n",
      "Solving linear variational problem.\n",
      "Solving linear variational problem.\n",
      "Solving linear variational problem.\n",
      "Solving linear variational problem.\n",
      "Solving linear variational problem.\n",
      "Solving linear variational problem.\n",
      "Solving linear variational problem.\n",
      "Solving linear variational problem.\n",
      "Solving linear variational problem.\n",
      "Solving linear variational problem.\n",
      "Solving linear variational problem.\n",
      "Solving linear variational problem.\n",
      "Solving linear variational problem.\n",
      "Solving linear variational problem.\n",
      "Solving linear variational problem.\n",
      "Solving linear variational problem.\n",
      "Solving linear variational problem.\n",
      "Solving linear variational problem.\n",
      "Solving linear variational problem.\n",
      "Solving linear variational problem.\n",
      "Solving linear variational problem.\n",
      "Solving linear variational problem.\n",
      "Solving linear variational problem.\n",
      "Solving linear variational problem.\n",
      "Solving linear variational problem.\n",
      "Solving linear variational problem.\n",
      "Solving linear variational problem.\n",
      "Solving linear variational problem.\n",
      "Solving linear variational problem.\n",
      "Solving linear variational problem.\n",
      "Solving linear variational problem.\n",
      "Solving linear variational problem.\n",
      "Solving linear variational problem.\n",
      "Solving linear variational problem.\n",
      "Solving linear variational problem.\n",
      "Solving linear variational problem.\n",
      "Solving linear variational problem.\n",
      "Solving linear variational problem.\n",
      "Solving linear variational problem.\n",
      "Solving linear variational problem.\n",
      "Solving linear variational problem.\n",
      "Solving linear variational problem.\n",
      "Solving linear variational problem.\n",
      "Solving linear variational problem.\n",
      "Solving linear variational problem.\n",
      "Solving linear variational problem.\n",
      "Solving linear variational problem.\n",
      "Solving linear variational problem.\n",
      "Solving linear variational problem.\n",
      "Solving linear variational problem.\n",
      "Solving linear variational problem.\n",
      "Solving linear variational problem.\n",
      "Solving linear variational problem.\n",
      "Solving linear variational problem.\n",
      "Solving linear variational problem.\n",
      "Solving linear variational problem.\n",
      "Solving linear variational problem.\n",
      "Solving linear variational problem.\n",
      "Solving linear variational problem.\n",
      "Solving linear variational problem.\n",
      "Solving linear variational problem.\n",
      "Solving linear variational problem.\n",
      "Solving linear variational problem.\n",
      "Solving linear variational problem.\n",
      "Solving linear variational problem.\n",
      "Solving linear variational problem.\n",
      "Solving linear variational problem.\n",
      "Solving linear variational problem.\n",
      "Solving linear variational problem.\n",
      "Solving linear variational problem.\n",
      "Solving linear variational problem.\n",
      "Solving linear variational problem.\n",
      "Solving linear variational problem.\n",
      "Solving linear variational problem.\n",
      "Solving linear variational problem.\n",
      "Solving linear variational problem.\n",
      "Solving linear variational problem.\n"
     ]
    },
    {
     "data": {
      "image/png": "[encoded data removed]",
      "text/plain": [
       "<Figure size 432x288 with 1 Axes>"
      ]
     },
     "metadata": {
      "needs_background": "light"
     },
     "output_type": "display_data"
    }
   ],
   "source": [
    "# Time-stepping\n",
    "u = Function(V)\n",
    "t = 0\n",
    "while t <= T:\n",
    "    # Update time\n",
    "    t += dt\n",
    "    f.t = t\n",
    "    u_e.t = t \n",
    "    # Solve variational problem at current time step\n",
    "    solve(a == L, u, bc)\n",
    "    # Plot solution\n",
    "    plot(u)    \n",
    "    # Update previous solution\n",
    "    u_k.assign(u_k1)\n",
    "    u_k1.assign(u)\n",
    "    # Save solution through time to visualize in paraview\n",
    "    fid << u, t"
   ]
  },
  {
   "cell_type": "code",
   "execution_count": 118,
   "metadata": {},
   "outputs": [
    {
     "data": {
      "text/plain": [
       "0.9612596000071986"
      ]
     },
     "execution_count": 118,
     "metadata": {},
     "output_type": "execute_result"
    }
   ],
   "source": [
    "# Error at final time\n",
    "e = u - u_e\n",
    "assemble(e**2*dx(mesh))"
   ]
  }
 ],
 "metadata": {
  "kernelspec": {
   "display_name": "Python 3",
   "language": "python",
   "name": "python3"
  },
  "language_info": {
   "codemirror_mode": {
    "name": "ipython",
    "version": 3
   },
   "file_extension": ".py",
   "mimetype": "text/x-python",
   "name": "python",
   "nbconvert_exporter": "python",
   "pygments_lexer": "ipython3",
   "version": "3.8.15"
  },
  "orig_nbformat": 4,
  "vscode": {
   "interpreter": {
    "hash": "d1426be04dfdad014e8a5150c59f1fa67bdbbe99f99488b805816b387308de1c"
   }
  }
 },
 "nbformat": 4,
 "nbformat_minor": 2
}
