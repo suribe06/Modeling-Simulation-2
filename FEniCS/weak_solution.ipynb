{
 "cells": [
  {
   "attachments": {},
   "cell_type": "markdown",
   "metadata": {},
   "source": [
    "Let $F$  vector field on $\\mathbb{R}^2$ and $v$ and $u$ two scalar field on $\\mathbb{R}^2$ such that $F=v\\nabla u$\n",
    "Form the divergence theorem we have\n",
    "\n",
    "$$\\int_{\\partial D} F\\cdot \\vec{r}d S=\\int_D \\nabla\\cdot F\\,dV$$\n",
    "\n",
    "where $D$ is a domain in $\\mathbb{R}^2$ and $\\vec{r}$ is a vector  normal to $\\partial D$.\n",
    "\n",
    "We can substitute $F$ with $v\\nabla u$ and we have\n",
    "\n",
    "$$\\int_{\\partial D} v\\nabla u\\cdot \\vec{r}d S=\\int_D \\nabla\\cdot (v\\nabla u)\\,dV$$\n",
    "thus, we can apply the product rule and we have\n",
    "$$\\int_{\\partial D} v\\nabla u\\cdot \\vec{r}d S=\\int_D \\nabla v\\cdot \\nabla u\\,dV+\\int_D v\\nabla^2\\cdot u\\,dV$$\n",
    "thus, we obtain the firts Green's rule\n",
    "$$-\\int_D v\\Delta u\\,dV=\\int_D \\nabla v\\cdot \\nabla u\\,dV-\\int_{\\partial D} v\\nabla u\\cdot \\vec{r}dS$$"
   ]
  },
  {
   "attachments": {},
   "cell_type": "markdown",
   "metadata": {},
   "source": [
    "Now, we can definite some spaces of functions on $\\mathbb{R}^2$ as follows\n",
    "\n",
    "We denote by $C^{\\infty}_0(\\Omega)$ the set of all infinity continuous functions  on $\\Omega\\subset \\mathbb{R}^2$ with compact support    and $C^n(\\mathbb{R}^2)$ the set of all $n$ continuous functions continuos on $\\mathbb{R}^2$. The following spaces are defined as\n",
    "$$H^1(\\Omega)=\\{u\\in L^2(\\Omega): \\frac{\\partial u}{\\partial x_1},  \\frac{\\partial u}{\\partial x_2}\\in L^2(\\Omega)^2)\\},$$\n",
    "it is a Hilbert space with the inner product\n",
    "$$\\langle u,v\\rangle =\\int_\\Omega u v\\,dx+\\int_\\Omega \\nabla u\\cdot \\nabla v\\,dx,$$\n",
    "and norm \n",
    "$$\\|u\\|_{H^1(\\Omega)}=\\sqrt{\\langle u,u\\rangle}=||u||_{L^2(\\Omega)}+||\\nabla u||_{L^2(\\Omega)}$$\n",
    "\n",
    "Let \n",
    "$$H^1_0(\\Omega)=\\{u\\in H^1(\\Omega): u=0\\text{ on }\\partial\\Omega\\}.$$\n",
    "\n",
    "# Solution of the Poisson equation\n",
    "\n",
    "Let $u:\\Omega\\to \\mathbb{R}$ \n",
    "$$-\\Delta u(x)=f(x), \\text{ with  }x\\in\\Omega,$$\n",
    "$$u(x)=g(x),\\text{ with  }x\\in\\partial\\Omega,$$\n",
    "where $f\\in L^2(\\Omega)$, we want to find $u\\in H^1{\\Omega}$ that satisfies the last equation. \n",
    "\n",
    "Let $v\\in C^{\\infty}_0(\\Omega)\\to \\mathbb{R}$,\n",
    "\n",
    "$$-\\int_\\Omega \\Delta u(x)v(x)\\,dx=\\int_\\Omega   f(x) v(x)\\,dx$$\n",
    "\n",
    "we can used the integration by parts and we have\n",
    "\n",
    "$$-\\int_\\Omega \\Delta u(x)v(x)\\,dx=\\int_\\Omega \\nabla u(x)\\cdot \\nabla v(x)\\,dx-\\int_{\\partial \\Omega}v(x)(\\nabla u(x)\\cdot\\vec{r}(x))dS,$$\n",
    "\n",
    "thus we need to find $u\\in H^1_0(\\Omega)$ that satisfies the following equation\n",
    "$$\\int_\\Omega \\nabla u(x)\\cdot \\nabla v(x)\\,dx=\\int_\\Omega f(x) v(x)\\,dx,$$\n",
    "$$u(x)=g(x),\\text{ with  }x\\in\\partial\\Omega.$$"
   ]
  },
  {
   "attachments": {},
   "cell_type": "markdown",
   "metadata": {},
   "source": [
    "Note that we define the billienar form $$A(u,v)=\\int_\\Omega \\nabla u(x)\\cdot \\nabla v(x)\\,dx,$$ and the linear form $$b(v)=\\int_\\Omega f(x) v(x)\\,dx,$$."
   ]
  }
 ],
 "metadata": {
  "kernelspec": {
   "display_name": "fenicsproject",
   "language": "python",
   "name": "python3"
  },
  "language_info": {
   "name": "python",
   "version": "3.11.0"
  },
  "orig_nbformat": 4,
  "vscode": {
   "interpreter": {
    "hash": "43275a98b04d4fcbc456cbf54f6afcba3134729550e8d9336abeee856212588e"
   }
  }
 },
 "nbformat": 4,
 "nbformat_minor": 2
}
