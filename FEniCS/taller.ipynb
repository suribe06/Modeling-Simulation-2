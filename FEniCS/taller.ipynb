{
 "cells": [
  {
   "attachments": {},
   "cell_type": "markdown",
   "metadata": {},
   "source": [
    "# Ejercicios \n",
    "\n",
    "\n",
    "1.  Encontrar la formulación  variacional de \n",
    "\n",
    "$$\\begin{cases}-\\nabla\\cdot(\\alpha\\nabla u(x))=f(x), &\\text{ con }x\\in\\Omega\\\\\n",
    "u(x)=U_a,&\\text{ con }x\\in\\Gamma_{D_a}\\\\\n",
    "u(x)=U_b,&\\text{ con }x\\in\\Gamma_{D_b}\\\\\n",
    "\\frac{\\partial u}{\\partial n}=0,&\\text{ con }x\\in\\Gamma_{N}\\end{cases}$$\n",
    " "
   ]
  },
  {
   "attachments": {},
   "cell_type": "markdown",
   "metadata": {},
   "source": [
    "2. Encontrar la formulación  variacional de\n",
    "$$\\begin{cases}-\\nabla\\cdot(\\alpha(u)\\nabla u(x))=f(x), &\\text{ con }x\\in\\Omega\\\\\n",
    "u(x)=U,&\\text{ con }x\\in\\partial\\Omega\\end{cases}$$"
   ]
  },
  {
   "attachments": {},
   "cell_type": "markdown",
   "metadata": {},
   "source": [
    "3. Sea $\\Omega=[0,1]\\times[0,1]$ y $f(x,y)=x^2+y^2$. Suponiendo que\n",
    "$$\\Gamma_{D_a}=\\{(x,y)\\in\\Omega:x=0\\},\\quad \\Gamma_{D_b}=\\{(x,y)\\in\\Omega:x=1\\},$$\n",
    "$$\\quad \\Gamma_{N}=\\{(x,y)\\in\\Omega:y=0\\}\\cup\\{(x,y)\\in\\Omega:y=1\\}$$\n",
    "y $U_a=1$, $U_b=1$, $\\alpha=5$, Implementar la aproximación del problema 1  en Fenics y resolverlo con el método de Galerkin. Graficar la solución.\n",
    "\n",
    "4. Sea $\\Omega=[0,1]\\times[0,1]$ y $f(x,y)=x^2+y^2$ y $\\alpha(u)=u+3$. Implementar la aproximación del problema 2  en Fenics y resolverlo con el método de Galerkin. Graficar la solución."
   ]
  },
  {
   "attachments": {},
   "cell_type": "markdown",
   "metadata": {},
   "source": [
    "5. Sea le siguiente problema de valor inicial\n",
    "$$\\begin{cases}\\frac{\\partial u}{\\partial t}=\\frac{\\partial^2 }{\\partial x^2} u,\\quad &\\text{ en } [0,\\pi]\\times(0,T]\\\\\\frac{\\partial u}{\\partial n}(0)=1,\\\\ u(\\pi)=0,\\\\ u(x,0)=\\sin(x),\\end{cases}$$ \n",
    "\n",
    " a. Encontrar la formula variacional del problema.\n",
    "\n",
    " b. Implementar la aproximación del problema en Fenics y resolverlo con el método de Galerkin. Graficar la solución.\n",
    "\n",
    "6. Sea le siguiente problema de valor inicial\n",
    "\n",
    "$$\\begin{cases}\\frac{\\partial u}{\\partial t}=\\frac{\\partial }{\\partial x}\\Big(x^2\\frac{\\partial u}{\\partial x}\\Big),\\quad &\\text{ en } [0,\\pi]\\times(0,T]\\\\u(0)=1,\\\\ u(1)=0,u(x,0)=\\sin(x)\\end{cases}$$\n",
    "\n",
    "a. Encontrar la formula variacional del problema.\n",
    "\n",
    "b. Implementar la aproximación del problema en Fenics y resolverlo con el método de Galerkin. Graficar la solución."
   ]
  },
  {
   "attachments": {},
   "cell_type": "markdown",
   "metadata": {},
   "source": [
    "7. Sea el problema de valor inicial\n",
    "\n",
    "$$\\begin{cases}\\frac{\\partial u}{\\partial t}=\\nabla^2 u+f,\\quad &\\text{ en } \\Omega\\times(0,T]\\\\ u(x,y,t)=1 + x^2 + \\alpha y^2+ \\beta t, &\\text{ para }(x,y)\\in \\partial\\Omega\\\\ u(x,y,0)=1 + x^2 + \\alpha y^2\\end{cases}$$\n",
    "donde $\\Omega =[0,1]\\times[0,1]$, $\\alpha = 3,\\beta = 1.2$ y $f(x,y)=\\beta- 2 - 2\\alpha$.\n",
    "\n",
    "a. Encontrar la formula variacional del problema.\n",
    "\n",
    "\n",
    "b. Implementar la aproximación del problema en Fenics y resolverlo con el método de Galerkin. Graficar la solución."
   ]
  },
  {
   "attachments": {},
   "cell_type": "markdown",
   "metadata": {},
   "source": [
    "8. Sea el problema de valor inicial\n",
    "$$\\begin{cases}\\frac{\\partial u}{\\partial t}=\\nabla\\cdot\\Big(\\alpha(u)\\nabla(u) \\Big) u+f,\\quad &\\text{ en } \\Omega\\times(0,T]\\\\ u(x,y,t)=u_D, &\\text{ para }(x,y)\\in \\partial\\Omega\\\\ u(x,y,0)=u_0\\end{cases}$$\n",
    "\n",
    "\n",
    "a. Encontrar la formula variacional del problema.\n",
    "\n",
    "b. Escribir un pseudocódigo para resolver el problema."
   ]
  },
  {
   "attachments": {},
   "cell_type": "markdown",
   "metadata": {},
   "source": [
    "9. Sea el problema de valor inicial\n",
    "$$\\begin{cases}\\frac{\\partial u}{\\partial t}=\\nabla\\cdot\\Big(\\alpha(u)\\nabla(u) \\Big) u+f,\\quad &\\text{ en } \\Omega\\times(0,T]\\\\ u(x,y,t)=u_D, &\\text{ para }(x,y)\\in \\Gamma_D\\\\\n",
    " \\frac{\\partial u}{\\partial n}=u_N, &\\text{ para }(x,y)\\in \\Gamma_N\\\\ u(x,y,0)=u_0\\end{cases}$$\n",
    "\n",
    "\n",
    "a. Encontrar la formula variacional del problema.\n",
    "\n",
    "b. Escribir un pseudocódigo para resolver el problema."
   ]
  }
 ],
 "metadata": {
  "kernelspec": {
   "display_name": "Python 3",
   "language": "python",
   "name": "python3"
  },
  "language_info": {
   "codemirror_mode": {
    "name": "ipython",
    "version": 3
   },
   "file_extension": ".py",
   "mimetype": "text/x-python",
   "name": "python",
   "nbconvert_exporter": "python",
   "pygments_lexer": "ipython3",
   "version": "3.8.15"
  },
  "orig_nbformat": 4,
  "vscode": {
   "interpreter": {
    "hash": "f6c9a02d1e49f2feb0acb21ff4b60ef8b8b9773bb7d605f77519aeb93141fee4"
   }
  }
 },
 "nbformat": 4,
 "nbformat_minor": 2
}
