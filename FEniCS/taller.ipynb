{
 "cells": [
  {
   "cell_type": "code",
   "execution_count": 21,
   "metadata": {},
   "outputs": [],
   "source": [
    "from fenics import *\n",
    "import numpy as np\n",
    "import matplotlib.pyplot as plt"
   ]
  },
  {
   "attachments": {},
   "cell_type": "markdown",
   "metadata": {},
   "source": [
    "# Ejercicios \n",
    "\n",
    "\n",
    "1.  Encontrar la formulación  variacional de \n",
    "\n",
    "$$\\begin{cases}-\\nabla\\cdot(\\alpha\\nabla u(x))=f(x), &\\text{ con }x\\in\\Omega\\\\\n",
    "u(x)=U_a,&\\text{ con }x\\in\\Gamma_{D_a}\\\\\n",
    "u(x)=U_b,&\\text{ con }x\\in\\Gamma_{D_b}\\\\\n",
    "\\frac{\\partial u}{\\partial n}=0,&\\text{ con }x\\in\\Gamma_{N}\\end{cases}$$\n",
    " "
   ]
  },
  {
   "attachments": {},
   "cell_type": "markdown",
   "metadata": {},
   "source": [
    "**R/** Dado que se tienen condiciones de Dirichlet no homogeneas, defina:\n",
    " $$V = \\{ v \\in H^1(\\Omega): v|_{\\Gamma_{D_a}}=U_a, v|_{\\Gamma_{D_b}}=U_b \\}$$\n",
    " y \n",
    "$$ \\hat{V} = \\{ v \\in H^1_0(\\Omega): v|_{\\Gamma_{D_a}}=0, v|_{\\Gamma_{D_b}}=0 \\}$$\n",
    "\n",
    "Sea $u \\in V$ y $v \\in \\hat{V}$, integrando sobre $\\Omega$:\n",
    "$$- \\int_{\\Omega} v \\Big( \\nabla\\cdot(\\alpha\\nabla u(x)) \\Big) \\, dx = \\int_{\\Omega} fv \\, dx$$\n",
    "Usando teorema de Green se obtiene que:\n",
    "$$- \\int_{\\Omega} v \\Big( \\nabla\\cdot(\\alpha\\nabla u(x)) \\Big) \\, dx = \\int_{\\Omega} \\alpha \\nabla u \\cdot \\nabla v \\, dx - \\int_{\\partial \\Omega} \\alpha \\frac{\\partial u}{\\partial \\eta} v \\, dS$$\n",
    "Pero:\n",
    "$$ - \\int_{\\partial \\Omega} \\alpha \\frac{\\partial u}{\\partial \\eta} v \\, dS = - \\Big( \\int_{\\Gamma_{D_a}} \\alpha \\frac{\\partial u}{\\partial \\eta} v \\, dS + \\int_{\\Gamma_{D_b}} \\alpha \\frac{\\partial u}{\\partial \\eta} v \\, dS + \\int_{\\Gamma_{N}} \\alpha \\frac{\\partial u}{\\partial \\eta} v \\, dS \\Big) $$\n",
    "Dado que $\\frac{\\partial u}{\\partial \\eta}=0, \\text{ con }x\\in\\Gamma_{N}$ el ultimo termino se anula. Ademas, $v = 0$ en $\\Gamma_{D_a}$ y $\\Gamma_{D_b}$, entonces:\n",
    "$$ - \\int_{\\Omega} v \\Big( \\nabla\\cdot(\\alpha\\nabla u(x)) \\Big) \\, dx = \\int_{\\Omega} \\alpha \\nabla u \\cdot \\nabla v \\, dx $$ \n",
    "Finalmente, se tiene que la forma variacional esta dada por:\n",
    "$$ \\int_{\\Omega} \\alpha \\nabla u \\cdot \\nabla v \\, dx = \\int_{\\Omega} f v \\, dx $$"
   ]
  },
  {
   "attachments": {},
   "cell_type": "markdown",
   "metadata": {},
   "source": [
    "2. Encontrar la formulación  variacional de\n",
    "$$\\begin{cases}-\\nabla\\cdot(\\alpha(u)\\nabla u(x))=f(x), &\\text{ con }x\\in\\Omega\\\\\n",
    "u(x)=g,&\\text{ con }x\\in\\partial\\Omega\\end{cases}$$"
   ]
  },
  {
   "attachments": {},
   "cell_type": "markdown",
   "metadata": {},
   "source": [
    "**R/** Defina\n",
    " $$V = \\{ v \\in H^1(\\Omega): v|_{\\partial \\Omega}= g \\}$$\n",
    " y\n",
    " $$ \\hat{V} = \\{ v \\in H^1_0(\\Omega): v|_{\\partial \\Omega}= 0 \\}$$\n",
    "Sea $u \\in V$ y $v \\in \\hat{V}$, integrando sobre $\\Omega$:\n",
    "$$ - \\int_{\\Omega} \\Big( \\nabla \\cdot (\\alpha(u)\\nabla u(x)) \\Big) v \\, dx = \\int_{\\Omega} f v \\, dx $$\n",
    "Usando teorema de Green se obtiene que:\n",
    "$$- \\int_{\\Omega} \\Big( \\nabla \\cdot (\\alpha(u)\\nabla u(x)) \\Big) v \\, dx = \\int_{\\Omega} \\alpha(u) \\nabla u \\cdot \\nabla v \\, dx - \\int_{\\partial \\Omega} \\alpha(u) \\frac{\\partial u}{\\partial \\eta} v \\, dS$$\n",
    "como $v$ se anula $\\partial \\Omega$ el segundo termino de la derecha es 0, por lo tanto la formula variacional esta dada por:\n",
    "$$ \\int_{\\Omega} \\alpha(u) \\nabla u \\cdot \\nabla v \\, dx =  \\int_{\\Omega} f v \\, dx$$"
   ]
  },
  {
   "attachments": {},
   "cell_type": "markdown",
   "metadata": {},
   "source": [
    "3. Sea $\\Omega=[0,1]\\times[0,1]$ y $f(x,y)=x^2+y^2$. Suponiendo que\n",
    "$$\\Gamma_{D_a}=\\{(x,y)\\in\\Omega:x=0\\},\\quad \\Gamma_{D_b}=\\{(x,y)\\in\\Omega:x=1\\},$$\n",
    "$$\\quad \\Gamma_{N}=\\{(x,y)\\in\\Omega:y=0\\}\\cup\\{(x,y)\\in\\Omega:y=1\\}$$\n",
    "y $U_a=1$, $U_b=1$, $\\alpha=5$, Implementar la aproximación del problema 1  en Fenics y resolverlo con el método de Galerkin. Graficar la solución."
   ]
  },
  {
   "cell_type": "code",
   "execution_count": 22,
   "metadata": {},
   "outputs": [],
   "source": [
    "# Create mesh\n",
    "nx = ny = 10\n",
    "mesh = UnitSquareMesh(nx, ny)\n",
    "\n",
    "# Define function space\n",
    "V = FunctionSpace(mesh, 'Lagrange', 2)\n",
    "\n",
    "# Define functions for boundary conditions\n",
    "u_a = Constant(1.0)\n",
    "u_b = Constant(1.0)\n",
    "g = Constant(0.0)\n",
    "\n",
    "# Define boundary subdomains\n",
    "def boundary_Da(x, on_boundary):\n",
    "    return on_boundary and near(x[0], 0.0)\n",
    "\n",
    "def boundary_Db(x, on_boundary):\n",
    "    return on_boundary and near(x[0], 1.0)\n",
    "\n",
    "def boundary_N(x, on_boundary):\n",
    "    return on_boundary and (near(x[1], 0.0) or near(x[1], 1.0))\n",
    "\n",
    "bc_a = DirichletBC(V, u_a, boundary_Da)\n",
    "bc_b = DirichletBC(V, u_b, boundary_Db)\n",
    "bc_n = DirichletBC(V, g, boundary_N)\n",
    "bcs = [bc_a, bc_b, bc_n]"
   ]
  },
  {
   "cell_type": "code",
   "execution_count": 23,
   "metadata": {},
   "outputs": [
    {
     "name": "stdout",
     "output_type": "stream",
     "text": [
      "Solving linear variational problem.\n"
     ]
    },
    {
     "data": {
      "text/plain": [
       "<matplotlib.tri._tricontour.TriContourSet at 0x7f02487c0df0>"
      ]
     },
     "execution_count": 23,
     "metadata": {},
     "output_type": "execute_result"
    },
    {
     "data": {
      "image/png": "[encoded data removed]",
      "text/plain": [
       "<Figure size 432x288 with 1 Axes>"
      ]
     },
     "metadata": {
      "needs_background": "light"
     },
     "output_type": "display_data"
    }
   ],
   "source": [
    "# Define variational problem\n",
    "alpha = Constant(5.0)\n",
    "u = TrialFunction(V)\n",
    "v = TestFunction(V)\n",
    "a = alpha*inner(nabla_grad(u), nabla_grad(v))*dx\n",
    "f = Expression('x[0]*x[0] + x[1]*x[1]', degree=2)\n",
    "L = f*v*dx\n",
    "\n",
    "# Compute solution\n",
    "u = Function(V)\n",
    "solve(a == L, u, bcs)\n",
    "\n",
    "# Plot solution\n",
    "plot(u)\n",
    "#plot(mesh)"
   ]
  },
  {
   "cell_type": "code",
   "execution_count": 24,
   "metadata": {},
   "outputs": [
    {
     "name": "stdout",
     "output_type": "stream",
     "text": [
      "Error = 0.5568510184015834\n"
     ]
    }
   ],
   "source": [
    "# Verification\n",
    "Ve = FunctionSpace(mesh, 'Lagrange', 3)\n",
    "u_e = interpolate(u_b, Ve)\n",
    "error = (u-u_e)**2*dx\n",
    "E = sqrt(assemble(error))\n",
    "print('Error =', E)"
   ]
  },
  {
   "attachments": {},
   "cell_type": "markdown",
   "metadata": {},
   "source": [
    "4. Sea $\\Omega=[0,1]\\times[0,1]$ y $f(x,y)=x^2+y^2$ y $\\alpha(u)=u+3$. Implementar la aproximación del problema 2  en Fenics y resolverlo con el método de Galerkin. Graficar la solución. Tomemos $g(x,y) = 0$"
   ]
  },
  {
   "cell_type": "code",
   "execution_count": 25,
   "metadata": {},
   "outputs": [
    {
     "name": "stdout",
     "output_type": "stream",
     "text": [
      "Solving linear variational problem.\n",
      "*** Warning: Degree of exact solution may be inadequate for accurate result in errornorm.\n",
      "Solving linear variational problem.\n",
      "*** Warning: Degree of exact solution may be inadequate for accurate result in errornorm.\n",
      "Solving linear variational problem.\n",
      "*** Warning: Degree of exact solution may be inadequate for accurate result in errornorm.\n",
      "Object cannot be plotted directly, projecting to piecewise linears.\n"
     ]
    },
    {
     "data": {
      "text/plain": [
       "<matplotlib.quiver.Quiver at 0x7f0249c11760>"
      ]
     },
     "execution_count": 25,
     "metadata": {},
     "output_type": "execute_result"
    },
    {
     "data": {
      "image/png": "[encoded data removed]",
      "text/plain": [
       "<Figure size 432x288 with 1 Axes>"
      ]
     },
     "metadata": {
      "needs_background": "light"
     },
     "output_type": "display_data"
    }
   ],
   "source": [
    "# Define mesh and function space\n",
    "nx = ny = 10\n",
    "mesh = UnitSquareMesh(nx, ny)\n",
    "V = FunctionSpace(mesh, 'Lagrange', 2)\n",
    "\n",
    "# Define boundary condition\n",
    "g = Constant(0.0)\n",
    "bc = DirichletBC(V, g, 'on_boundary')\n",
    "\n",
    "# Define parameters\n",
    "def alpha_(u):\n",
    "    return u + 3\n",
    "f = Expression('x[0]*x[0] + x[1]*x[1]', degree=2)\n",
    "\n",
    "# Define variational problem\n",
    "u = TrialFunction(V)\n",
    "v = TestFunction(V)\n",
    "u_k = interpolate(Constant(0.0),V)\n",
    "a = alpha_(u_k)*inner(grad(u), grad(v))*dx\n",
    "L = f*v*dx\n",
    "\n",
    "# Picard iteration\n",
    "u = Function(V)\n",
    "eps = 1\n",
    "tol = 1.0E-5\n",
    "iter = 0\n",
    "maxiter = 25\n",
    "while eps > tol and iter < maxiter:\n",
    "    iter += 1\n",
    "    solve(a == L, u, bc)\n",
    "    eps = errornorm(u_k, u, norm_type='L2', degree_rise=3)\n",
    "    u_k.assign(u)\n",
    "\n",
    "plot(u)\n",
    "plot(grad(u), title=\"Solution Picard\")"
   ]
  },
  {
   "cell_type": "code",
   "execution_count": 26,
   "metadata": {},
   "outputs": [
    {
     "name": "stdout",
     "output_type": "stream",
     "text": [
      "Error = 0.00842585299273892\n"
     ]
    }
   ],
   "source": [
    "# Verification\n",
    "u_e = interpolate(g, V)\n",
    "error = (u-u_e)**2*dx\n",
    "E = sqrt(assemble(error))\n",
    "print('Error =', E)"
   ]
  },
  {
   "attachments": {},
   "cell_type": "markdown",
   "metadata": {},
   "source": [
    "5. Sea le siguiente problema de valor inicial\n",
    "$$\\begin{cases} \\frac{\\partial u}{\\partial t} = \\frac{\\partial^2}{\\partial x^2} u,\\quad &\\text{ en } \\Omega = [0,\\pi]\\times(0,T]\\\\\\frac{\\partial u}{\\partial n}(0)=1,\\\\ u(\\pi,t)=0,\\\\ u(x,0)=\\sin(x),\\end{cases}$$ \n",
    "\n",
    " a. Encontrar la formula variacional del problema.\n",
    "\n",
    " b. Implementar la aproximación del problema en Fenics y resolverlo con el método de Galerkin. Graficar la solución."
   ]
  },
  {
   "attachments": {},
   "cell_type": "markdown",
   "metadata": {},
   "source": [
    "**R/** Note que podemos reescribir la EDP como:\n",
    "$$ \\frac{\\partial u}{\\partial t} = \\Delta u + f$$\n",
    "con $f = 0$. Sea $\\Omega = [0,\\pi]\\times(0,T]$, defina los espacios:\n",
    "$$ V \\subset L^2(\\Omega) = \\{ v(\\cdot, t) \\in H^1([0,\\pi]) : v(\\pi,t) = 0, \\frac{\\partial v}{\\partial \\eta}(0,t) = 1 \\} \\cap \\{ v(x, \\cdot) \\in H^1((0,T]) : v(x,0) = \\sin x \\}$$ \n",
    "y\n",
    "$$ \\hat{V} \\subset L^2(\\Omega) = \\{ v \\in H^1_0([0,\\pi]): v(0,t) = v(\\pi, t) = 0 \\}$$\n",
    "Para resolver esta EDP dependiente del tiempo, discretizaremos la derivada temporal mediante una aproximacion por diferencias finitas, generando formulas variacionales para cada estado del problema. Recordemos que:\n",
    "$$ \\frac{\\partial u^k}{\\partial t} \\approx \\frac{u^k - u^{k-1}}{dt} $$\n",
    "Por lo tanto una discretizacion del problema seria la siguiente:\n",
    "$$ \\frac{u^k - u^{k-1}}{dt} = \\Delta u^k + f^k $$\n",
    "$$ u^k - u^{k-1} = dt (\\Delta u^k + f^k) $$\n",
    "Sea $u^k \\in V$ y $v \\in \\hat{V}$, integrando sobre $\\Omega$:\n",
    "$$ \\int_{\\Omega} (u^k - u^{k-1}) v \\,dx = dt \\Big( \\int_{\\Omega} (\\Delta u^k + f^k ) v \\,dx \\Big)$$\n",
    "$$ \\int_{\\Omega} (u^k - u^{k-1}) v \\,dx = dt \\int_{\\Omega} \\Delta u^k v \\,dx + dt \\int_{\\Omega} f^k v \\,dx$$\n",
    "Aplicando teorema de Green al primer termino del lado derecho obtenemos que:\n",
    "$$ \\int_{\\Omega}  \\Delta u^k v \\,dx = \\int_{\\partial \\Omega} \\frac{\\partial u^k}{\\partial \\eta} v \\, dS - \\int_{\\Omega} \\nabla u^k \\nabla v \\,dx $$\n",
    "Pero:\n",
    "$$ \\int_{\\partial \\Omega} \\frac{\\partial u^k}{\\partial \\eta} v \\, dS = \\int_{\\Gamma_D} \\frac{\\partial u^k}{\\partial \\eta} v \\, dS + \\int_{\\Gamma_N} \\frac{\\partial u^k}{\\partial \\eta} v \\, dS $$\n",
    "Como $v$ se anula en la frontera espacial $\\Gamma_D$ (es decir, $v(0,t)=v(\\pi,t)=0$), el primer termino es 0.  Entonces, aplicando las condiciones de Neumann se obtiene que:\n",
    "$$ \\int_{\\partial \\Omega} \\frac{\\partial u^k}{\\partial \\eta} v \\, dS = \\int_{\\Gamma_N} v \\, dS $$\n",
    "y:\n",
    "$$ \\int_{\\Omega}  \\Delta u^k v \\,dx = \\int_{\\Gamma_N} v \\, dS - \\int_{\\Omega} \\nabla u^k \\nabla v \\,dx $$\n",
    "Finalmente, la formula variacional esta dada por:\n",
    "$$ \\int_{\\Omega} (u^k - u^{k-1}) v \\,dx = dt \\int_{\\Gamma_N} v \\, dS - dt \\int_{\\Omega} \\nabla u^k \\nabla v \\,dx + dt \\int_{\\Omega} f^k v \\,dx$$\n",
    "$$ \\int_{\\Omega} u^k v \\,dx - \\int_{\\Omega} u^{k-1} v \\,dx = dt \\int_{\\Gamma_N} v \\, dS - dt \\int_{\\Omega} \\nabla u^k \\cdot \\nabla v \\,dx + dt \\int_{\\Omega} f^k v \\,dx$$\n",
    "$$ \\int_{\\Omega} u^k v \\,dx + dt \\int_{\\Omega} \\nabla u^k \\cdot \\nabla v \\,dx = \\int_{\\Omega} u^{k-1} v \\,dx + dt \\int_{\\Omega} f^k v \\,dx + dt \\int_{\\Gamma_N} v \\, dS$$\n",
    "$$ \\int_{\\Omega} \\Big( u^kv + dt(\\nabla u^k \\cdot \\nabla v) \\Big)\\, dx =  \\int_{\\Omega} (u^{k-1} + dt f) v \\, dx + dt \\int_{\\Gamma_N} v \\, dS $$\n"
   ]
  },
  {
   "cell_type": "code",
   "execution_count": 27,
   "metadata": {},
   "outputs": [
    {
     "name": "stderr",
     "output_type": "stream",
     "text": [
      "/home/suribe06/mambaforge/envs/fenicsmshr/lib/python3.8/site-packages/dolfin/common/plotting.py:152: UserWarning: The following kwargs were not used by contour: 'label'\n",
      "  return ax.tricontourf(mesh2triang(mesh), C, levels, **kwargs)\n",
      "No artists with labels found to put in legend.  Note that artists whose label start with an underscore are ignored when legend() is called with no argument.\n"
     ]
    },
    {
     "data": {
      "text/plain": [
       "Text(0.5, 1.0, 'initial condition, u(t=0, x) = sin(x)')"
      ]
     },
     "execution_count": 27,
     "metadata": {},
     "output_type": "execute_result"
    },
    {
     "data": {
      "image/png": "[encoded data removed]",
      "text/plain": [
       "<Figure size 432x288 with 1 Axes>"
      ]
     },
     "metadata": {
      "needs_background": "light"
     },
     "output_type": "display_data"
    }
   ],
   "source": [
    "#Discretization\n",
    "T = 5.0 # final time\n",
    "num_steps = 50 # number of time steps\n",
    "dt = T / num_steps # time step size\n",
    "\n",
    "# Define mesh and function space\n",
    "nx = ny = 10\n",
    "#mesh = IntervalMesh(200, 0, np.pi)\n",
    "mesh = UnitSquareMesh(nx, ny)\n",
    "\n",
    "V = FunctionSpace(mesh, 'Lagrange', 1)\n",
    "\n",
    "## Define the boundary condition\n",
    "u_0 = Constant(0.0)\n",
    "g = Constant(1.0) #Neumman condition\n",
    "bc = DirichletBC(V, u_0, \"near(x[0], 0)\")\n",
    "\n",
    "def boundary_N(x, on_boundary):\n",
    "    return on_boundary and near(x[0], 0)\n",
    "\n",
    "def boundary_D(x, on_boundary):\n",
    "    return on_boundary and near(x[0], pi)\n",
    "\n",
    "bc = [DirichletBC(V, Constant(0.0), boundary_D),\n",
    "      DirichletBC(V, Constant(1.0), boundary_N)]\n",
    "\n",
    "# Define the initial condition, u(t=0, x) = sin(x)\n",
    "initial_condition = Expression(\"sin(x[0])\", degree=1)\n",
    "u_k_old = interpolate(initial_condition, V)\n",
    "plt.figure()\n",
    "plot(u_k_old, label=\"t=0.0\")\n",
    "plt.legend()\n",
    "plt.title('initial condition, u(t=0, x) = sin(x)')"
   ]
  },
  {
   "cell_type": "code",
   "execution_count": 28,
   "metadata": {},
   "outputs": [
    {
     "name": "stdout",
     "output_type": "stream",
     "text": [
      "Solving linear variational problem.\n",
      "  *** Warning: Found no facets matching domain for boundary condition.\n",
      "time = 0.10: error = 1\n",
      "Solving linear variational problem.\n",
      "  *** Warning: Found no facets matching domain for boundary condition.\n",
      "time = 0.20: error = 0.331\n",
      "Solving linear variational problem.\n",
      "  *** Warning: Found no facets matching domain for boundary condition.\n",
      "time = 0.30: error = 0.283\n",
      "Solving linear variational problem.\n",
      "  *** Warning: Found no facets matching domain for boundary condition.\n",
      "time = 0.40: error = 0.237\n",
      "Solving linear variational problem.\n",
      "  *** Warning: Found no facets matching domain for boundary condition.\n",
      "time = 0.50: error = 0.194\n",
      "Solving linear variational problem.\n",
      "  *** Warning: Found no facets matching domain for boundary condition.\n",
      "time = 0.60: error = 0.156\n",
      "Solving linear variational problem.\n",
      "  *** Warning: Found no facets matching domain for boundary condition.\n",
      "time = 0.70: error = 0.126\n",
      "Solving linear variational problem.\n",
      "  *** Warning: Found no facets matching domain for boundary condition.\n",
      "time = 0.80: error = 0.101\n",
      "Solving linear variational problem.\n",
      "  *** Warning: Found no facets matching domain for boundary condition.\n",
      "time = 0.90: error = 0.081\n",
      "Solving linear variational problem.\n",
      "  *** Warning: Found no facets matching domain for boundary condition.\n",
      "time = 1.00: error = 0.0649\n",
      "Solving linear variational problem.\n",
      "  *** Warning: Found no facets matching domain for boundary condition.\n",
      "time = 1.10: error = 0.0521\n",
      "Solving linear variational problem.\n",
      "  *** Warning: Found no facets matching domain for boundary condition.\n",
      "time = 1.20: error = 0.0418\n",
      "Solving linear variational problem.\n",
      "  *** Warning: Found no facets matching domain for boundary condition.\n",
      "time = 1.30: error = 0.0335\n",
      "Solving linear variational problem.\n",
      "  *** Warning: Found no facets matching domain for boundary condition.\n",
      "time = 1.40: error = 0.0268\n",
      "Solving linear variational problem.\n",
      "  *** Warning: Found no facets matching domain for boundary condition.\n",
      "time = 1.50: error = 0.0215\n",
      "Solving linear variational problem.\n",
      "  *** Warning: Found no facets matching domain for boundary condition.\n",
      "time = 1.60: error = 0.0173\n",
      "Solving linear variational problem.\n",
      "  *** Warning: Found no facets matching domain for boundary condition.\n",
      "time = 1.70: error = 0.0138\n",
      "Solving linear variational problem.\n",
      "  *** Warning: Found no facets matching domain for boundary condition.\n",
      "time = 1.80: error = 0.0111\n",
      "Solving linear variational problem.\n",
      "  *** Warning: Found no facets matching domain for boundary condition.\n",
      "time = 1.90: error = 0.00889\n",
      "Solving linear variational problem.\n",
      "  *** Warning: Found no facets matching domain for boundary condition.\n",
      "time = 2.00: error = 0.00713\n",
      "Solving linear variational problem.\n",
      "  *** Warning: Found no facets matching domain for boundary condition.\n",
      "time = 2.10: error = 0.00572\n",
      "Solving linear variational problem.\n",
      "  *** Warning: Found no facets matching domain for boundary condition.\n",
      "time = 2.20: error = 0.00458\n",
      "Solving linear variational problem.\n",
      "  *** Warning: Found no facets matching domain for boundary condition.\n",
      "time = 2.30: error = 0.00367\n",
      "Solving linear variational problem.\n",
      "  *** Warning: Found no facets matching domain for boundary condition.\n",
      "time = 2.40: error = 0.00295\n",
      "Solving linear variational problem.\n",
      "  *** Warning: Found no facets matching domain for boundary condition.\n",
      "time = 2.50: error = 0.00236\n",
      "Solving linear variational problem.\n",
      "  *** Warning: Found no facets matching domain for boundary condition.\n",
      "time = 2.60: error = 0.00189\n",
      "Solving linear variational problem.\n",
      "  *** Warning: Found no facets matching domain for boundary condition.\n",
      "time = 2.70: error = 0.00152\n",
      "Solving linear variational problem.\n",
      "  *** Warning: Found no facets matching domain for boundary condition.\n",
      "time = 2.80: error = 0.00122\n",
      "Solving linear variational problem.\n",
      "  *** Warning: Found no facets matching domain for boundary condition.\n",
      "time = 2.90: error = 0.000976\n",
      "Solving linear variational problem.\n",
      "  *** Warning: Found no facets matching domain for boundary condition.\n",
      "time = 3.00: error = 0.000783\n",
      "Solving linear variational problem.\n",
      "  *** Warning: Found no facets matching domain for boundary condition.\n",
      "time = 3.10: error = 0.000627\n",
      "Solving linear variational problem.\n",
      "  *** Warning: Found no facets matching domain for boundary condition.\n",
      "time = 3.20: error = 0.000503\n",
      "Solving linear variational problem.\n",
      "  *** Warning: Found no facets matching domain for boundary condition.\n",
      "time = 3.30: error = 0.000403\n",
      "Solving linear variational problem.\n",
      "  *** Warning: Found no facets matching domain for boundary condition.\n",
      "time = 3.40: error = 0.000323\n",
      "Solving linear variational problem.\n",
      "  *** Warning: Found no facets matching domain for boundary condition.\n",
      "time = 3.50: error = 0.000259\n",
      "Solving linear variational problem.\n",
      "  *** Warning: Found no facets matching domain for boundary condition.\n",
      "time = 3.60: error = 0.000208\n",
      "Solving linear variational problem.\n",
      "  *** Warning: Found no facets matching domain for boundary condition.\n",
      "time = 3.70: error = 0.000167\n",
      "Solving linear variational problem.\n",
      "  *** Warning: Found no facets matching domain for boundary condition.\n",
      "time = 3.80: error = 0.000134\n",
      "Solving linear variational problem.\n",
      "  *** Warning: Found no facets matching domain for boundary condition.\n",
      "time = 3.90: error = 0.000107\n",
      "Solving linear variational problem.\n",
      "  *** Warning: Found no facets matching domain for boundary condition.\n",
      "time = 4.00: error = 8.59e-05\n",
      "Solving linear variational problem.\n",
      "  *** Warning: Found no facets matching domain for boundary condition.\n",
      "time = 4.10: error = 6.89e-05\n",
      "Solving linear variational problem.\n",
      "  *** Warning: Found no facets matching domain for boundary condition.\n",
      "time = 4.20: error = 5.52e-05\n",
      "Solving linear variational problem.\n",
      "  *** Warning: Found no facets matching domain for boundary condition.\n",
      "time = 4.30: error = 4.43e-05\n",
      "Solving linear variational problem.\n",
      "  *** Warning: Found no facets matching domain for boundary condition.\n",
      "time = 4.40: error = 3.55e-05\n",
      "Solving linear variational problem.\n",
      "  *** Warning: Found no facets matching domain for boundary condition.\n",
      "time = 4.50: error = 2.85e-05\n",
      "Solving linear variational problem.\n",
      "  *** Warning: Found no facets matching domain for boundary condition.\n",
      "time = 4.60: error = 2.28e-05\n",
      "Solving linear variational problem.\n",
      "  *** Warning: Found no facets matching domain for boundary condition.\n",
      "time = 4.70: error = 1.83e-05\n",
      "Solving linear variational problem.\n",
      "  *** Warning: Found no facets matching domain for boundary condition.\n",
      "time = 4.80: error = 1.47e-05\n",
      "Solving linear variational problem.\n",
      "  *** Warning: Found no facets matching domain for boundary condition.\n",
      "time = 4.90: error = 1.18e-05\n",
      "Solving linear variational problem.\n",
      "  *** Warning: Found no facets matching domain for boundary condition.\n",
      "time = 5.00: error = 9.43e-06\n",
      "Solving linear variational problem.\n",
      "  *** Warning: Found no facets matching domain for boundary condition.\n",
      "time = 5.10: error = 7.56e-06\n"
     ]
    },
    {
     "data": {
      "image/png": "[encoded data removed]",
      "text/plain": [
       "<Figure size 432x288 with 1 Axes>"
      ]
     },
     "metadata": {
      "needs_background": "light"
     },
     "output_type": "display_data"
    }
   ],
   "source": [
    "# Define the variational problem\n",
    "u = TrialFunction(V)\n",
    "v = TestFunction(V)\n",
    "f = Constant(0.0)\n",
    "a = u*v*dx + dt*inner(nabla_grad(u), nabla_grad(v))*dx\n",
    "L = (u_k_old + dt*f)*v*dx + dt*v*ds\n",
    "\n",
    "# Time-stepping\n",
    "u = Function(V)\n",
    "t = 0\n",
    "while t <= T:\n",
    "    # Update time\n",
    "    t += dt\n",
    "    u_k_old.t = t\n",
    "    # Solve variational problem at current time step\n",
    "    solve(a == L, u, bc)\n",
    "    # Plot solution\n",
    "    plot(u)\n",
    "    # Compute error at vertices\n",
    "    u_e = interpolate(u_k_old, V)\n",
    "    error = np.abs(u_e.vector().get_local() - u.vector().get_local()).max()\n",
    "    print('time = %.2f: error = %.3g' % (t, error))\n",
    "    # Update previous solution\n",
    "    u_k_old.assign(u)\n"
   ]
  },
  {
   "attachments": {},
   "cell_type": "markdown",
   "metadata": {},
   "source": [
    "6. Sea le siguiente problema de valor inicial\n",
    "\n",
    "$$\\begin{cases}\\frac{\\partial u}{\\partial t}=\\frac{\\partial }{\\partial x}\\Big(x^2\\frac{\\partial u}{\\partial x}\\Big),\\quad &\\text{ en } [0,\\pi]\\times(0,T]\\\\u(0,t)=1,\\\\ u(\\pi,t)=0,\\\\u(x,0)=\\sin(x)\\end{cases}$$\n",
    "\n",
    "a. Encontrar la formula variacional del problema.\n",
    "\n",
    "**R/** Note que podemos reescribir la EDP como:\n",
    "$$ \\frac{\\partial u}{\\partial t} = \\nabla \\cdot (\\alpha(x) \\nabla u) $$\n",
    "con $\\alpha(x) = x^2$. Defina los espacios:\n",
    "$$ V \\subset L^2(\\Omega) = \\{ v(\\cdot, t) \\in H^1([0,\\pi]) : v(0,t) = 1, v(\\pi,t) = 0 \\} \\cap \\{ v(x, \\cdot) \\in H^1((0,T]) : v(x,0) = \\sin x \\}$$ \n",
    "y\n",
    "$$ \\hat{V} \\subset L^2(\\Omega) = \\{ v \\in H^1_0([0,\\pi]): v(0,t) = v(\\pi, t) = 0 \\}$$\n",
    "\n",
    "\n",
    "Usando diferencias finitas obtenemos:\n",
    "$$ \\frac{u^k - u^{k-1}}{dt} = \\nabla \\cdot (\\alpha(x) \\nabla u^k)$$\n",
    "Sean $u^k \\in V$ y $v \\in \\hat{V}$, integrnado sobre $\\Omega$ obetenemos:\n",
    "$$ \\int_{\\Omega} (u^k - u^{k-1})v \\, dx = dt \\int_{\\Omega} (\\nabla \\cdot (\\alpha(x) \\nabla u^k))v \\, dx $$\n",
    "Aplicando teorema de Green en el lado derecho obtenemos que:\n",
    "$$ \\int_{\\Omega} (\\nabla \\cdot (\\alpha(x) \\nabla u^k))v \\, dx = \\int_{\\partial \\Omega} \\alpha(x) \\frac{\\partial u^k}{\\partial \\eta} \\, dS - \\int_{\\Omega} \\alpha(x) \\nabla u^k \\cdot \\nabla v \\, dx $$\n",
    "pero $v$ se anula en la frontera, por lo que el primer termino es 0, entonces:\n",
    "$$ \\int_{\\Omega} (u^k - u^{k-1})v \\, dx = - dt \\int_{\\Omega} \\alpha(x) \\nabla u^k \\cdot \\nabla v \\, dx$$\n",
    "$$ \\int_{\\Omega} u^k v \\,dx - \\int_{\\Omega} u^{k-1} v \\,dx = - dt \\int_{\\Omega} \\alpha(x) \\nabla u^k \\cdot \\nabla v \\,dx $$\n",
    "$$ \\int_{\\Omega} \\Big( u^k v + dt(\\nabla u^k \\cdot \\nabla v) \\Big)\\, dx =  \\int_{\\Omega} u^{k-1} v \\, dx $$\n",
    "b. Implementar la aproximación del problema en Fenics y resolverlo con el método de Galerkin. Graficar la solución."
   ]
  },
  {
   "cell_type": "code",
   "execution_count": 29,
   "metadata": {},
   "outputs": [
    {
     "name": "stdout",
     "output_type": "stream",
     "text": [
      "Solving linear variational problem.\n",
      "time = 0.10: error = 1\n",
      "Solving linear variational problem.\n",
      "time = 0.20: error = 0.187\n",
      "Solving linear variational problem.\n",
      "time = 0.30: error = 0.127\n",
      "Solving linear variational problem.\n",
      "time = 0.40: error = 0.0937\n",
      "Solving linear variational problem.\n",
      "time = 0.50: error = 0.0729\n",
      "Solving linear variational problem.\n",
      "time = 0.60: error = 0.059\n",
      "Solving linear variational problem.\n",
      "time = 0.70: error = 0.0491\n",
      "time = 0.80: error = 0.0417\n",
      "time = 0.90: error = 0.0361\n",
      "Solving linear variational problem.\n",
      "Solving linear variational problem.\n",
      "Solving linear variational problem.\n",
      "time = 1.00: error = 0.0316\n",
      "Solving linear variational problem.\n",
      "time = 1.10: error = 0.028\n",
      "Solving linear variational problem.time = 1.20: error = 0.0251\n",
      "time = 1.30: error = 0.0226\n",
      "\n",
      "Solving linear variational problem.\n",
      "Solving linear variational problem.\n",
      "time = 1.40: error = 0.0205\n",
      "time = 1.50: error = 0.0187\n",
      "Solving linear variational problem.\n",
      "time = 1.60: error = 0.0172\n",
      "Solving linear variational problem.\n",
      "time = 1.70: error = 0.0158\n",
      "Solving linear variational problem.\n",
      "Solving linear variational problem.\n",
      "time = 1.80: error = 0.0147\n",
      "time = 1.90: error = 0.0136\n",
      "time = 2.00: error = 0.0127\n",
      "time = 2.10: error = 0.0118\n",
      "Solving linear variational problem.\n",
      "Solving linear variational problem.\n",
      "Solving linear variational problem.\n",
      "Solving linear variational problem.\n",
      "time = 2.20: error = 0.0111\n",
      "Solving linear variational problem.\n",
      "time = 2.30: error = 0.0104\n",
      "time = 2.40: error = 0.0098\n",
      "Solving linear variational problem.\n",
      "Solving linear variational problem.\n",
      "time = 2.50: error = 0.00924\n",
      "Solving linear variational problem.\n",
      "time = 2.60: error = 0.00874\n",
      "Solving linear variational problem.\n",
      "time = 2.70: error = 0.00829\n",
      "Solving linear variational problem.\n",
      "time = 2.80: error = 0.00788\n",
      "Solving linear variational problem.\n",
      "time = 2.90: error = 0.0075\n",
      "Solving linear variational problem.\n",
      "time = 3.00: error = 0.00715\n",
      "Solving linear variational problem.\n",
      "time = 3.10: error = 0.00684\n",
      "Solving linear variational problem.\n",
      "time = 3.20: error = 0.00656\n",
      "Solving linear variational problem.\n",
      "time = 3.30: error = 0.0063\n",
      "Solving linear variational problem.\n",
      "time = 3.40: error = 0.00606\n",
      "Solving linear variational problem.\n",
      "time = 3.50: error = 0.00585\n",
      "Solving linear variational problem.\n",
      "time = 3.60: error = 0.00564\n",
      "Solving linear variational problem.\n",
      "time = 3.70: error = 0.00547\n",
      "Solving linear variational problem.\n",
      "time = 3.80: error = 0.00529\n",
      "Solving linear variational problem.\n",
      "time = 3.90: error = 0.00515\n",
      "Solving linear variational problem.\n",
      "time = 4.00: error = 0.005\n",
      "Solving linear variational problem.\n",
      "time = 4.10: error = 0.00487\n",
      "Solving linear variational problem.\n",
      "time = 4.20: error = 0.00475\n",
      "Solving linear variational problem.\n",
      "time = 4.30: error = 0.00462\n",
      "Solving linear variational problem.\n",
      "time = 4.40: error = 0.00449\n",
      "Solving linear variational problem.\n",
      "time = 4.50: error = 0.00438\n",
      "Solving linear variational problem.\n",
      "time = 4.60: error = 0.00427\n",
      "Solving linear variational problem.\n",
      "time = 4.70: error = 0.00416\n",
      "Solving linear variational problem.\n",
      "time = 4.80: error = 0.00404\n",
      "Solving linear variational problem.\n",
      "time = 4.90: error = 0.00393\n",
      "Solving linear variational problem.\n",
      "time = 5.00: error = 0.00381\n",
      "Solving linear variational problem.\n",
      "time = 5.10: error = 0.00369\n"
     ]
    },
    {
     "data": {
      "image/png": "[encoded data removed]",
      "text/plain": [
       "<Figure size 432x288 with 1 Axes>"
      ]
     },
     "metadata": {
      "needs_background": "light"
     },
     "output_type": "display_data"
    }
   ],
   "source": [
    "#Discretization\n",
    "T = 5.0 # final time\n",
    "num_steps = 50 # number of time steps\n",
    "dt = T / num_steps # time step size\n",
    "\n",
    "# Define mesh and function space\n",
    "nx = ny = 10\n",
    "mesh = IntervalMesh(200, 0, np.pi)\n",
    "#mesh = UnitSquareMesh(nx, ny)\n",
    "\n",
    "V = FunctionSpace(mesh, 'Lagrange', 1)\n",
    "\n",
    "# Define the boundary condition\n",
    "bc = [DirichletBC(V, Constant(1.0), \"near(x[0], 0)\"),\n",
    "      DirichletBC(V, Constant(0.0), \"near(x[0], pi)\")]\n",
    "\n",
    "# Define the initial condition, u(t=0, x) = sin(x)\n",
    "initial_condition = Expression(\"sin(x[0])\", degree=1)\n",
    "u_k_old = interpolate(initial_condition, V)\n",
    "\n",
    "# Define the variational problem\n",
    "u = TrialFunction(V)\n",
    "v = TestFunction(V)\n",
    "alpha = Expression(\"x[0]*x[0]\", degree=2)\n",
    "a = u*v*dx + dt*alpha*inner(nabla_grad(u), nabla_grad(v))*dx\n",
    "L = u_k_old*v*dx\n",
    "\n",
    "# Time-stepping\n",
    "u = Function(V)\n",
    "t = 0\n",
    "while t <= T:\n",
    "    # Update time\n",
    "    t += dt\n",
    "    u_k_old.t = t\n",
    "    # Solve variational problem at current time step\n",
    "    solve(a == L, u, bc)\n",
    "    # Plot solution\n",
    "    plot(u)\n",
    "    # Compute error at vertices\n",
    "    u_e = interpolate(u_k_old, V)\n",
    "    error = np.abs(u_e.vector().get_local() - u.vector().get_local()).max()\n",
    "    print('time = %.2f: error = %.3g' % (t, error))\n",
    "    # Update previous solution\n",
    "    u_k_old.assign(u)"
   ]
  },
  {
   "attachments": {},
   "cell_type": "markdown",
   "metadata": {},
   "source": [
    "7. Sea el problema de valor inicial\n",
    "\n",
    "$$\\begin{cases}\\frac{\\partial u}{\\partial t}=\\nabla^2 u+f,\\quad &\\text{ en } \\Omega\\times(0,T]\\\\ u(x,y,t)=1 + x^2 + \\alpha y^2+ \\beta t, &\\text{ para }(x,y)\\in \\partial\\Omega\\\\ u(x,y,0)=1 + x^2 + \\alpha y^2\\end{cases}$$\n",
    "donde $\\Omega =[0,1]\\times[0,1]$, $\\alpha = 3,\\beta = 1.2$ y $f(x,y)=\\beta- 2 - 2\\alpha$.\n",
    "\n",
    "a. Encontrar la formula variacional del problema.\n",
    "\n",
    "**R/** Note que podemos reescribir la EDP como  $\\frac{\\partial u}{\\partial t}=\\Delta u + f$. \n",
    "Defina los espacios:\n",
    "$$ V = \\{ v \\in H^1(\\Omega) : v |_{\\partial \\Omega} = 1 + x^2 + \\alpha y^2+ \\beta t, v(x,y,0)=1 + x^2 + \\alpha y^2 \\} $$\n",
    "y\n",
    "$$ \\hat{V} = \\{ v \\in H^1_0(\\Omega) : v |_{\\partial \\Omega} = 0 \\} $$\n",
    "\n",
    "Siguiendo el mismo procedimiento del punto 5, integrando sobre $\\Omega$:\n",
    "$$ \\int_{\\Omega} (u^k - u^{k-1}) v \\,dx = dt \\Big( \\int_{\\Omega} (\\Delta u^k + f^k ) v \\,dx \\Big)$$\n",
    "$$ \\int_{\\Omega} (u^k - u^{k-1}) v \\,dx = dt \\int_{\\Omega} \\Delta u^k v \\,dx + dt \\int_{\\Omega} f^k v \\,dx$$\n",
    "Aplicando teorema de Green al primer termino del lado derecho obtenemos que:\n",
    "$$ \\int_{\\Omega}  \\Delta u^k v \\,dx = \\int_{\\partial \\Omega} \\frac{\\partial u^k}{\\partial \\eta} v \\, dS - \\int_{\\Omega} \\nabla u^k \\nabla v \\,dx $$\n",
    "Como $v$ se anula en la frontera, el primer termino es 0. Entonces la formula variacional esta dada por:\n",
    "$$ \\int_{\\Omega} (u^k - u^{k-1}) v \\,dx = - dt \\int_{\\Omega} \\nabla u^k \\nabla v \\,dx + dt \\int_{\\Omega} f^k v \\,dx$$\n",
    "$$ \\int_{\\Omega} u^k v \\,dx + dt \\int_{\\Omega} \\nabla u^k \\cdot \\nabla v \\,dx = \\int_{\\Omega} u^{k-1} v \\,dx + dt \\int_{\\Omega} f^k v \\,dx $$\n",
    "$$ \\int_{\\Omega} \\Big( u^kv + dt(\\nabla u^k \\cdot \\nabla v) \\Big)\\, dx =  \\int_{\\Omega} (u^{k-1} + dt f) v \\, dx$$\n",
    "\n",
    "b. Implementar la aproximación del problema en Fenics y resolverlo con el método de Galerkin. Graficar la solución."
   ]
  },
  {
   "cell_type": "code",
   "execution_count": 30,
   "metadata": {},
   "outputs": [
    {
     "name": "stdout",
     "output_type": "stream",
     "text": [
      "Solving linear variational problem.\n",
      "time = 0.10: error = 0.0564\n",
      "Solving linear variational problem.\n",
      "time = 0.20: error = 0.0208\n",
      "Solving linear variational problem.\n",
      "time = 0.30: error = 0.00708\n",
      "Solving linear variational problem.\n",
      "time = 0.40: error = 0.00236\n",
      "Solving linear variational problem.\n",
      "time = 0.50: error = 0.000783\n",
      "Solving linear variational problem.\n",
      "time = 0.60: error = 0.000259\n",
      "Solving linear variational problem.\n",
      "time = 0.70: error = 8.57e-05\n",
      "Solving linear variational problem.\n",
      "time = 0.80: error = 2.84e-05\n",
      "Solving linear variational problem.\n",
      "time = 0.90: error = 9.38e-06\n",
      "Solving linear variational problem.\n",
      "time = 1.00: error = 3.1e-06\n",
      "Solving linear variational problem.\n",
      "time = 1.10: error = 1.03e-06\n",
      "Solving linear variational problem.\n",
      "time = 1.20: error = 3.4e-07\n",
      "Solving linear variational problem.\n",
      "time = 1.30: error = 1.12e-07\n",
      "Solving linear variational problem.\n",
      "time = 1.40: error = 3.72e-08\n",
      "Solving linear variational problem.\n",
      "time = 1.50: error = 1.23e-08\n",
      "Solving linear variational problem.\n",
      "time = 1.60: error = 4.07e-09\n",
      "Solving linear variational problem.\n",
      "time = 1.70: error = 1.35e-09\n",
      "Solving linear variational problem.\n",
      "time = 1.80: error = 4.45e-10\n",
      "Solving linear variational problem.\n",
      "time = 1.90: error = 1.47e-10\n",
      "Solving linear variational problem.\n",
      "time = 2.00: error = 4.87e-11\n",
      "Solving linear variational problem.\n",
      "time = 2.10: error = 1.61e-11\n",
      "Solving linear variational problem.\n",
      "time = 2.20: error = 5.33e-12\n",
      "Solving linear variational problem.\n",
      "time = 2.30: error = 1.76e-12\n",
      "Solving linear variational problem.\n",
      "time = 2.40: error = 5.84e-13\n",
      "Solving linear variational problem.\n",
      "time = 2.50: error = 1.93e-13\n",
      "Solving linear variational problem.\n",
      "time = 2.60: error = 6.39e-14\n",
      "Solving linear variational problem.\n",
      "time = 2.70: error = 2.13e-14\n",
      "Solving linear variational problem.\n",
      "time = 2.80: error = 7.11e-15\n",
      "Solving linear variational problem.\n",
      "time = 2.90: error = 2.89e-15\n",
      "Solving linear variational problem.\n",
      "time = 3.00: error = 8.88e-16\n",
      "Solving linear variational problem.\n",
      "time = 3.10: error = 6.66e-16\n",
      "Solving linear variational problem.\n",
      "time = 3.20: error = 0\n",
      "Solving linear variational problem.\n",
      "time = 3.30: error = 0\n",
      "Solving linear variational problem.\n",
      "time = 3.40: error = 0\n",
      "Solving linear variational problem.\n",
      "time = 3.50: error = 0\n",
      "Solving linear variational problem.\n",
      "time = 3.60: error = 0\n",
      "Solving linear variational problem.\n",
      "time = 3.70: error = 0\n",
      "Solving linear variational problem.\n",
      "time = 3.80: error = 0\n",
      "Solving linear variational problem.\n",
      "time = 3.90: error = 0\n",
      "Solving linear variational problem.\n",
      "time = 4.00: error = 0\n",
      "Solving linear variational problem.\n",
      "time = 4.10: error = 0\n",
      "Solving linear variational problem.\n",
      "time = 4.20: error = 0\n",
      "Solving linear variational problem.\n",
      "time = 4.30: error = 0\n",
      "Solving linear variational problem.\n",
      "time = 4.40: error = 0\n",
      "Solving linear variational problem.\n",
      "time = 4.50: error = 0\n",
      "Solving linear variational problem.\n",
      "time = 4.60: error = 0\n",
      "Solving linear variational problem.\n",
      "time = 4.70: error = 0\n",
      "Solving linear variational problem.\n",
      "time = 4.80: error = 0\n",
      "Solving linear variational problem.\n",
      "time = 4.90: error = 0\n",
      "Solving linear variational problem.\n",
      "time = 5.00: error = 0\n",
      "Solving linear variational problem.\n",
      "time = 5.10: error = 0\n"
     ]
    },
    {
     "data": {
      "image/png": "[encoded data removed]",
      "text/plain": [
       "<Figure size 432x288 with 1 Axes>"
      ]
     },
     "metadata": {
      "needs_background": "light"
     },
     "output_type": "display_data"
    }
   ],
   "source": [
    "#Discretization\n",
    "T = 5.0 # final time\n",
    "num_steps = 50 # number of time steps\n",
    "dt = T / num_steps # time step size\n",
    "\n",
    "# Define mesh and function space\n",
    "nx = ny = 10\n",
    "mesh = UnitSquareMesh(nx, ny)\n",
    "V = FunctionSpace(mesh, 'Lagrange', 1)\n",
    "\n",
    "# Define the boundary condition\n",
    "u_D = Expression('1 + x[0]*x[0] + alpha*x[1]*x[1] + beta*t', degree=2, alpha=3, beta=1.2, t=0)\n",
    "def boundary(x, on_boundary):\n",
    "    return on_boundary\n",
    "bc = DirichletBC(V, u_D, boundary)\n",
    "\n",
    "# Define the initial condition\n",
    "initial_condition = Expression('1 + x[0]*x[0] + alpha*x[1]*x[1]', degree=2, alpha=3)\n",
    "u_k_old = interpolate(initial_condition, V)\n",
    "\n",
    "# Define the variational problem\n",
    "u = TrialFunction(V)\n",
    "v = TestFunction(V)\n",
    "f = Expression('beta - 2 - 2*alpha', degree=2, alpha=3, beta=1.2)\n",
    "a = u*v*dx + dt*inner(nabla_grad(u), nabla_grad(v))*dx\n",
    "L = (u_k_old + dt*f)*v*dx\n",
    "\n",
    "# Time-stepping\n",
    "u = Function(V)\n",
    "t = 0\n",
    "while t <= T:\n",
    "    # Update time\n",
    "    t += dt\n",
    "    u_k_old.t = t\n",
    "    # Solve variational problem at current time step\n",
    "    solve(a == L, u, bc)\n",
    "    # Plot solution\n",
    "    plot(u)\n",
    "    # Compute error at vertices\n",
    "    u_e = interpolate(u_k_old, V)\n",
    "    error = np.abs(u_e.vector().get_local() - u.vector().get_local()).max()\n",
    "    print('time = %.2f: error = %.3g' % (t, error))\n",
    "    # Update previous solution\n",
    "    u_k_old.assign(u)"
   ]
  },
  {
   "attachments": {},
   "cell_type": "markdown",
   "metadata": {},
   "source": [
    "8. Sea el problema de valor inicial\n",
    "$$\\begin{cases}\\frac{\\partial u}{\\partial t}=\\nabla\\cdot\\Big(\\alpha(u)\\nabla(u) \\Big) u+f,\\quad &\\text{ en } \\Omega\\times(0,T]\\\\ u(x,y,t)=u_D, &\\text{ para }(x,y)\\in \\partial\\Omega\\\\ u(x,y,0)=u_0\\end{cases}$$\n",
    "\n",
    "\n",
    "a. Encontrar la formula variacional del problema.\n",
    "\n",
    "b. Escribir un pseudocódigo para resolver el problema."
   ]
  },
  {
   "attachments": {},
   "cell_type": "markdown",
   "metadata": {},
   "source": [
    "9. Sea el problema de valor inicial\n",
    "$$\\begin{cases}\\frac{\\partial u}{\\partial t}=\\nabla\\cdot\\Big(\\alpha(u)\\nabla(u) \\Big) u+f,\\quad &\\text{ en } \\Omega\\times(0,T]\\\\ u(x,y,t)=u_D, &\\text{ para }(x,y)\\in \\Gamma_D\\\\\n",
    " \\frac{\\partial u}{\\partial n}=u_N, &\\text{ para }(x,y)\\in \\Gamma_N\\\\ u(x,y,0)=u_0\\end{cases}$$\n",
    "\n",
    "\n",
    "a. Encontrar la formula variacional del problema.\n",
    "\n",
    "b. Escribir un pseudocódigo para resolver el problema."
   ]
  }
 ],
 "metadata": {
  "kernelspec": {
   "display_name": "Python 3",
   "language": "python",
   "name": "python3"
  },
  "language_info": {
   "codemirror_mode": {
    "name": "ipython",
    "version": 3
   },
   "file_extension": ".py",
   "mimetype": "text/x-python",
   "name": "python",
   "nbconvert_exporter": "python",
   "pygments_lexer": "ipython3",
   "version": "3.8.15"
  },
  "orig_nbformat": 4,
  "vscode": {
   "interpreter": {
    "hash": "f6c9a02d1e49f2feb0acb21ff4b60ef8b8b9773bb7d605f77519aeb93141fee4"
   }
  }
 },
 "nbformat": 4,
 "nbformat_minor": 2
}
