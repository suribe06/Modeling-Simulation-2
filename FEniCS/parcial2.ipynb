{
 "cells": [
  {
   "attachments": {},
   "cell_type": "markdown",
   "metadata": {},
   "source": [
    "# Javeriana Cali\n",
    "\n",
    "\n",
    "## Segundo parcial de Modelación y Simulación II\n",
    "\n",
    "Por favor marque el archivo con us nombre de la siguiente manera: parcial2_nombre.ipynb\n"
   ]
  },
  {
   "attachments": {},
   "cell_type": "markdown",
   "metadata": {},
   "source": [
    "# Problema  1\n",
    "Encontrar la formula variacional e implementar en fenics la siguiente ecuación de Poisson:\n",
    "\n",
    "$$-\\nabla\\cdot(1/8+u^2)\\nabla u=1$$\n",
    "donde $\\Omega=[0,1]\\times[0,1]$ y $u=0$ en $\\partial\\Omega$."
   ]
  },
  {
   "attachments": {},
   "cell_type": "markdown",
   "metadata": {},
   "source": [
    "# Problema 2\n",
    "Encontrar la formula variacional e implementar en fenics la siguiente ecuación\n",
    "$$-\\nabla^2 u=f,$$\n",
    "donde $f(x,y)=\\frac{e^{-(x-0.5)^2-(y-0.5)^2}}{0.02}$ y las condiciones de borde son\n",
    "$u(x,y)=0$ para $x=0$ o $x=1$ y $u_x(x,y)=sin(5x)$ para $y=0$ o $y=1$, para $\\Omega=[0,1]\\times[0,1]$"
   ]
  },
  {
   "attachments": {},
   "cell_type": "markdown",
   "metadata": {},
   "source": [
    "# Problema 3\n",
    "\n",
    "Sea le siguiente problema de valor inicial\n",
    "\n",
    "$$\\begin{cases}\\frac{\\partial u}{\\partial t}=\\frac{\\partial }{\\partial x}\\Big(x^2\\frac{\\partial u}{\\partial x}\\Big)+(x+1)^2,\\quad &\\text{ en } [0,\\pi]\\times(0,T]\\\\u(0)=1,\\\\ u(1)=0,\\\\\n",
    "u(x,0)=cos(\\frac{\\pi}{2} x)\\end{cases}$$\n",
    "\n",
    "a. Encontrar la formula variacional del problema.\n",
    "\n",
    "b. Implementar la aproximación del problema en Fenics y resolverlo con el método de Galerkin. Graficar la solución."
   ]
  }
 ],
 "metadata": {
  "kernelspec": {
   "display_name": "base",
   "language": "python",
   "name": "python3"
  },
  "language_info": {
   "name": "python",
   "version": "3.10.8"
  },
  "orig_nbformat": 4,
  "vscode": {
   "interpreter": {
    "hash": "f270268f366b1b56ded613569009ffe85bdc8a221864e36b078d44dbaa43c5ce"
   }
  }
 },
 "nbformat": 4,
 "nbformat_minor": 2
}
