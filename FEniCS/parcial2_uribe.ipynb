{
 "cells": [
  {
   "cell_type": "code",
   "execution_count": 33,
   "metadata": {},
   "outputs": [],
   "source": [
    "from fenics import *\n",
    "import numpy as np\n",
    "import matplotlib.pyplot as plt"
   ]
  },
  {
   "attachments": {},
   "cell_type": "markdown",
   "metadata": {},
   "source": [
    "# Javeriana Cali\n",
    "\n",
    "\n",
    "## Segundo parcial de Modelación y Simulación II\n",
    "\n",
    "Por favor marque el archivo con us nombre de la siguiente manera: parcial2_nombre.ipynb\n"
   ]
  },
  {
   "attachments": {},
   "cell_type": "markdown",
   "metadata": {},
   "source": [
    "# Problema  1\n",
    "Encontrar la formula variacional e implementar en fenics la siguiente ecuación de Poisson:\n",
    "\n",
    "$$-\\nabla\\cdot(\\frac{1}{8}+u)^2\\nabla u=1$$\n",
    "donde $\\Omega=[0,1]\\times[0,1]$ y $u=0$ en $\\partial\\Omega$."
   ]
  },
  {
   "attachments": {},
   "cell_type": "markdown",
   "metadata": {},
   "source": [
    "Formula variacional:\n",
    "$$ \\int_{\\Omega} \\alpha(u) \\nabla u \\cdot \\nabla v \\, dx = \\int_{\\Omega} v \\, dx $$"
   ]
  },
  {
   "cell_type": "code",
   "execution_count": 34,
   "metadata": {},
   "outputs": [
    {
     "name": "stdout",
     "output_type": "stream",
     "text": [
      "Solving linear variational problem.\n",
      "*** Warning: Degree of exact solution may be inadequate for accurate result in errornorm.\n",
      "Solving linear variational problem.\n",
      "*** Warning: Degree of exact solution may be inadequate for accurate result in errornorm.\n",
      "Solving linear variational problem.\n",
      "*** Warning: Degree of exact solution may be inadequate for accurate result in errornorm.\n",
      "Solving linear variational problem.\n",
      "*** Warning: Degree of exact solution may be inadequate for accurate result in errornorm.\n",
      "Solving linear variational problem.\n",
      "*** Warning: Degree of exact solution may be inadequate for accurate result in errornorm.\n",
      "Solving linear variational problem.\n",
      "*** Warning: Degree of exact solution may be inadequate for accurate result in errornorm.\n",
      "Solving linear variational problem.\n",
      "*** Warning: Degree of exact solution may be inadequate for accurate result in errornorm.\n",
      "Solving linear variational problem.\n",
      "*** Warning: Degree of exact solution may be inadequate for accurate result in errornorm.\n",
      "Solving linear variational problem.\n",
      "*** Warning: Degree of exact solution may be inadequate for accurate result in errornorm.\n",
      "Solving linear variational problem.\n",
      "*** Warning: Degree of exact solution may be inadequate for accurate result in errornorm.\n",
      "Solving linear variational problem.\n",
      "*** Warning: Degree of exact solution may be inadequate for accurate result in errornorm.\n",
      "Solving linear variational problem.\n",
      "*** Warning: Degree of exact solution may be inadequate for accurate result in errornorm.\n",
      "Solving linear variational problem.\n",
      "*** Warning: Degree of exact solution may be inadequate for accurate result in errornorm.\n",
      "Solving linear variational problem.\n",
      "*** Warning: Degree of exact solution may be inadequate for accurate result in errornorm.\n",
      "Solving linear variational problem.\n",
      "*** Warning: Degree of exact solution may be inadequate for accurate result in errornorm.\n",
      "Solving linear variational problem.\n",
      "*** Warning: Degree of exact solution may be inadequate for accurate result in errornorm.\n",
      "Solving linear variational problem.\n",
      "*** Warning: Degree of exact solution may be inadequate for accurate result in errornorm.\n",
      "Solving linear variational problem.\n",
      "*** Warning: Degree of exact solution may be inadequate for accurate result in errornorm.\n",
      "Solving linear variational problem.\n",
      "*** Warning: Degree of exact solution may be inadequate for accurate result in errornorm.\n",
      "Solving linear variational problem.\n",
      "*** Warning: Degree of exact solution may be inadequate for accurate result in errornorm.\n",
      "Solving linear variational problem.\n",
      "*** Warning: Degree of exact solution may be inadequate for accurate result in errornorm.\n",
      "Solving linear variational problem.\n",
      "*** Warning: Degree of exact solution may be inadequate for accurate result in errornorm.\n",
      "Solving linear variational problem.\n",
      "*** Warning: Degree of exact solution may be inadequate for accurate result in errornorm.\n",
      "Solving linear variational problem.\n",
      "*** Warning: Degree of exact solution may be inadequate for accurate result in errornorm.\n",
      "Solving linear variational problem.\n",
      "*** Warning: Degree of exact solution may be inadequate for accurate result in errornorm.\n",
      "Object cannot be plotted directly, projecting to piecewise linears.\n"
     ]
    },
    {
     "data": {
      "text/plain": [
       "<matplotlib.quiver.Quiver at 0x7fa44512caf0>"
      ]
     },
     "execution_count": 34,
     "metadata": {},
     "output_type": "execute_result"
    },
    {
     "data": {
      "image/png": "[encoded data removed]",
      "text/plain": [
       "<Figure size 432x288 with 1 Axes>"
      ]
     },
     "metadata": {
      "needs_background": "light"
     },
     "output_type": "display_data"
    }
   ],
   "source": [
    "# Define mesh and function space\n",
    "nx = ny = 10\n",
    "mesh = UnitSquareMesh(nx, ny)\n",
    "V = FunctionSpace(mesh, 'Lagrange', 2)\n",
    "\n",
    "# Define boundary condition\n",
    "g = Constant(0.0)\n",
    "bc = DirichletBC(V, g, 'on_boundary')\n",
    "\n",
    "# Define parameters\n",
    "def alpha_(u):\n",
    "    return ((1/8) + u) * ((1/8) + u)\n",
    "\n",
    "# Define variational problem\n",
    "u = TrialFunction(V)\n",
    "v = TestFunction(V)\n",
    "u_k = interpolate(g,V)\n",
    "a = alpha_(u_k)*inner(nabla_grad(u), nabla_grad(v))*dx\n",
    "L = v*dx\n",
    "\n",
    "# Picard iteration\n",
    "u = Function(V)\n",
    "eps = 1\n",
    "tol = 1.0E-5\n",
    "iter = 0\n",
    "maxiter = 25\n",
    "while eps > tol and iter < maxiter:\n",
    "    iter += 1\n",
    "    solve(a == L, u, bc)\n",
    "    eps = errornorm(u_k, u, norm_type='L2', degree_rise=3)\n",
    "    u_k.assign(u)\n",
    "\n",
    "plot(u)\n",
    "plot(nabla_grad(u), title=\"Solution Picard\")"
   ]
  },
  {
   "attachments": {},
   "cell_type": "markdown",
   "metadata": {},
   "source": [
    "# Problema 2\n",
    "Encontrar la formula variacional e implementar en fenics la siguiente ecuación\n",
    "$$-\\nabla^2 u=f,$$\n",
    "donde $f(x,y)=\\frac{e^{-(x-0.5)^2-(y-0.5)^2}}{0.02}$ y las condiciones de borde son\n",
    "$u(x,y)=0$ para $x=0$ o $x=1$ y $\\frac{\\partial u}{\\partial n}(x,y)=sin(5x)$ para $y=0$ o $y=1$, para $\\Omega=[0,1]\\times[0,1]$"
   ]
  },
  {
   "attachments": {},
   "cell_type": "markdown",
   "metadata": {},
   "source": [
    "Formula variacional:\n",
    "$$ \\int_{\\Omega} \\nabla u \\cdot \\nabla v \\, dx = \\int_{\\Omega} f v \\, dx + \\int_{\\Gamma_N} \\sin{(5x)}v \\, dS $$"
   ]
  },
  {
   "cell_type": "code",
   "execution_count": 35,
   "metadata": {},
   "outputs": [
    {
     "name": "stdout",
     "output_type": "stream",
     "text": [
      "Solving linear variational problem.\n"
     ]
    },
    {
     "data": {
      "text/plain": [
       "<matplotlib.tri._tricontour.TriContourSet at 0x7fa4450345e0>"
      ]
     },
     "execution_count": 35,
     "metadata": {},
     "output_type": "execute_result"
    },
    {
     "data": {
      "image/png": "[encoded data removed]",
      "text/plain": [
       "<Figure size 432x288 with 1 Axes>"
      ]
     },
     "metadata": {
      "needs_background": "light"
     },
     "output_type": "display_data"
    }
   ],
   "source": [
    "# Create mesh\n",
    "nx = ny = 10\n",
    "mesh = UnitSquareMesh(nx, ny)\n",
    "\n",
    "# Define function space\n",
    "V = FunctionSpace(mesh, 'Lagrange', 2)\n",
    "\n",
    "# Define functions for boundary conditions\n",
    "u_D = Constant(0.0)\n",
    "u_N = Expression('sin(5*x[0])', degree=2)\n",
    "\n",
    "# Define boundary conditions\n",
    "def boundary_D(x, on_boundary):\n",
    "    return on_boundary and (near(x[0], 0) or near(x[0], 1))\n",
    "\n",
    "def boundary_N(x, on_boundary):\n",
    "    return on_boundary and (near(x[1], 0) or near(x[1], 1))\n",
    "\n",
    "bc_D = DirichletBC(V, u_D, boundary_D)\n",
    "bc_N = DirichletBC(V, u_N, boundary_N)\n",
    "bcs = [bc_D, bc_N]\n",
    "\n",
    "# Define vartional problem\n",
    "f = Expression('exp(-pow(x[0]-0.5, 2)-pow(x[1]-0.5, 2))/0.02', degree=2)\n",
    "u = TrialFunction(V)\n",
    "v = TestFunction(V)\n",
    "a = inner(nabla_grad(u), nabla_grad(v))*dx\n",
    "L = f*v*dx + u_N*v*ds\n",
    "\n",
    "# Compute solution\n",
    "u = Function(V)\n",
    "solve(a == L, u, bcs)\n",
    "\n",
    "# Plot solution\n",
    "plot(u)"
   ]
  },
  {
   "attachments": {},
   "cell_type": "markdown",
   "metadata": {},
   "source": [
    "# Problema 3\n",
    "\n",
    "Sea le siguiente problema de valor inicial\n",
    "\n",
    "$$\\begin{cases}\\frac{\\partial u}{\\partial t}=\\nabla\\cdot\\Big((x^2+1)\\nabla u(x,y)\\Big)+g(x,y),\\quad &\\text{ en } \\Omega\\times(0,T]\\\\\n",
    "u(x,y,0)=x^2+y^2+sin(x*y),\\\\\n",
    "u|_{\\partial \\Omega}=x^2+y^2+sin(x*y+t)\\end{cases}$$\n",
    "\n",
    "$$g(x,y)=−2x(2x+ycos(t+xy))−(x^2+1)(−x^2sin(t+xy)+2)−(x^2+1)(−y^2sin(t+xy)+2)+cos(t+xy)$$\n",
    "\n",
    "a. Encontrar la formula variacional del problema.\n",
    "\n",
    "\n",
    "b. Implementar la aproximación del problema en Fenics y resolverlo con el método de Galerkin. Graficar la solución."
   ]
  },
  {
   "attachments": {},
   "cell_type": "markdown",
   "metadata": {},
   "source": [
    "Formula variacional:\n",
    "$$ \\int_{\\Omega} u^k v \\, dx + dt \\int_{\\Omega} \\alpha(x,y) \\nabla u^k \\cdot \\nabla v \\, dx = \\int_{\\Omega} (dt \\cdot g + u^{k-1})v \\, dx $$"
   ]
  },
  {
   "cell_type": "code",
   "execution_count": 36,
   "metadata": {},
   "outputs": [
    {
     "data": {
      "text/plain": [
       "<matplotlib.tri._tricontour.TriContourSet at 0x7fa444ef9af0>"
      ]
     },
     "execution_count": 36,
     "metadata": {},
     "output_type": "execute_result"
    },
    {
     "data": {
      "image/png": "[encoded data removed]",
      "text/plain": [
       "<Figure size 432x288 with 1 Axes>"
      ]
     },
     "metadata": {
      "needs_background": "light"
     },
     "output_type": "display_data"
    }
   ],
   "source": [
    "#Discretization\n",
    "T = 1 # final time\n",
    "num_steps = 100 # number of time steps\n",
    "dt = T / num_steps # time step size\n",
    "\n",
    "# Define mesh and function space\n",
    "nx = ny = 10\n",
    "mesh = UnitSquareMesh(nx, ny)\n",
    "V = FunctionSpace(mesh, 'Lagrange', 1)\n",
    "\n",
    "# Define the boundary condition\n",
    "u_D = Expression('x[0]*x[0] + x[1]*x[1] + sin(x[0]*x[1] + t)',degree=2, t=0)\n",
    "def boundary(x, on_boundary):\n",
    "    return on_boundary\n",
    "\n",
    "bc = DirichletBC(V, u_D, boundary)\n",
    "\n",
    "# Define the initial condition, u(t=0, x) = sin(x)\n",
    "initial_condition = Expression('x[0]*x[0] + x[1]*x[1] + sin(x[0]*x[1])', degree=2)\n",
    "u_k_old = interpolate(initial_condition, V)\n",
    "plot(u_k_old)"
   ]
  },
  {
   "cell_type": "code",
   "execution_count": 37,
   "metadata": {},
   "outputs": [
    {
     "name": "stdout",
     "output_type": "stream",
     "text": [
      "Solving linear variational problem.\n",
      "Solving linear variational problem.\n",
      "Solving linear variational problem.\n",
      "Solving linear variational problem.\n",
      "Solving linear variational problem.\n",
      "Solving linear variational problem.\n",
      "Solving linear variational problem.\n",
      "Solving linear variational problem.\n",
      "Solving linear variational problem.\n",
      "Solving linear variational problem.\n",
      "Solving linear variational problem.\n",
      "Solving linear variational problem.\n",
      "Solving linear variational problem.\n",
      "Solving linear variational problem.\n",
      "Solving linear variational problem.\n",
      "Solving linear variational problem.\n",
      "Solving linear variational problem.\n",
      "Solving linear variational problem.\n",
      "Solving linear variational problem.\n",
      "Solving linear variational problem.\n",
      "Solving linear variational problem.\n",
      "Solving linear variational problem.\n",
      "Solving linear variational problem.\n",
      "Solving linear variational problem.\n",
      "Solving linear variational problem.\n",
      "Solving linear variational problem.\n",
      "Solving linear variational problem.\n",
      "Solving linear variational problem.\n",
      "Solving linear variational problem.\n",
      "Solving linear variational problem.\n",
      "Solving linear variational problem.\n",
      "Solving linear variational problem.\n",
      "Solving linear variational problem.\n",
      "Solving linear variational problem.\n",
      "Solving linear variational problem.\n",
      "Solving linear variational problem.\n",
      "Solving linear variational problem.\n",
      "Solving linear variational problem.\n",
      "Solving linear variational problem.\n",
      "Solving linear variational problem.\n",
      "Solving linear variational problem.\n",
      "Solving linear variational problem.\n",
      "Solving linear variational problem.\n",
      "Solving linear variational problem.\n",
      "Solving linear variational problem.\n",
      "Solving linear variational problem.\n",
      "Solving linear variational problem.\n",
      "Solving linear variational problem.\n",
      "Solving linear variational problem.\n",
      "Solving linear variational problem.\n",
      "Solving linear variational problem.\n",
      "Solving linear variational problem.\n",
      "Solving linear variational problem.\n",
      "Solving linear variational problem.\n",
      "Solving linear variational problem.\n",
      "Solving linear variational problem.\n",
      "Solving linear variational problem.\n",
      "Solving linear variational problem.\n",
      "Solving linear variational problem.\n",
      "Solving linear variational problem.\n",
      "Solving linear variational problem.\n",
      "Solving linear variational problem.\n",
      "Solving linear variational problem.\n",
      "Solving linear variational problem.\n",
      "Solving linear variational problem.\n",
      "Solving linear variational problem.\n",
      "Solving linear variational problem.\n",
      "Solving linear variational problem.\n",
      "Solving linear variational problem.\n",
      "Solving linear variational problem.\n",
      "Solving linear variational problem.\n",
      "Solving linear variational problem.\n",
      "Solving linear variational problem.\n",
      "Solving linear variational problem.\n",
      "Solving linear variational problem.\n",
      "Solving linear variational problem.\n",
      "Solving linear variational problem.\n",
      "Solving linear variational problem.\n",
      "Solving linear variational problem.\n",
      "Solving linear variational problem.\n",
      "Solving linear variational problem.\n",
      "Solving linear variational problem.\n",
      "Solving linear variational problem.\n",
      "Solving linear variational problem.\n",
      "Solving linear variational problem.\n",
      "Solving linear variational problem.\n",
      "Solving linear variational problem.\n",
      "Solving linear variational problem.\n",
      "Solving linear variational problem.\n",
      "Solving linear variational problem.\n",
      "Solving linear variational problem.\n",
      "Solving linear variational problem.\n",
      "Solving linear variational problem.\n",
      "Solving linear variational problem.\n",
      "Solving linear variational problem.\n",
      "Solving linear variational problem.\n",
      "Solving linear variational problem.\n",
      "Solving linear variational problem.\n",
      "Solving linear variational problem.\n",
      "Solving linear variational problem.\n"
     ]
    },
    {
     "data": {
      "image/png": "[encoded data removed]",
      "text/plain": [
       "<Figure size 432x288 with 1 Axes>"
      ]
     },
     "metadata": {
      "needs_background": "light"
     },
     "output_type": "display_data"
    }
   ],
   "source": [
    "# Define the variational problem\n",
    "u = TrialFunction(V)\n",
    "v = TestFunction(V)\n",
    "alpha_ = Expression(\"x[0]*x[0] + 1\", degree=2)\n",
    "T_ = 0\n",
    "g = Expression('-2*x[0]*(2*x[0] + x[1]*cos(t + x[0]*x[1])) - (x[0]*x[0] + 1)*(- x[0]*x[0] * sin(t + x[0]*x[1]) + 2) - (x[0]*x[0] + 1)*(- x[1]*x[1] * sin(t + x[0]*x[1]) + 2) + cos(t + x[0]*x[1])',degree=2, t=T_)\n",
    "\n",
    "a = u*v*dx + dt*alpha_*inner(nabla_grad(u), nabla_grad(v))*dx\n",
    "L = (dt*g + u_k_old)*v*dx\n",
    "\n",
    "# Time-stepping\n",
    "u = Function(V)\n",
    "t = 0\n",
    "fid = File(\"parcial2_uribe/solution3.pvd\")\n",
    "while t <= T:\n",
    "    # Update time\n",
    "    t += dt\n",
    "    u_D.t = t\n",
    "    g.t = t\n",
    "    # Solve variational problem at current time step\n",
    "    solve(a == L, u, bc)\n",
    "    # Plot solution\n",
    "    plot(u)\n",
    "    # Update previous solution\n",
    "    u_k_old.assign(u)\n",
    "    fid << u, t"
   ]
  }
 ],
 "metadata": {
  "kernelspec": {
   "display_name": "fenicsmshr",
   "language": "python",
   "name": "python3"
  },
  "language_info": {
   "codemirror_mode": {
    "name": "ipython",
    "version": 3
   },
   "file_extension": ".py",
   "mimetype": "text/x-python",
   "name": "python",
   "nbconvert_exporter": "python",
   "pygments_lexer": "ipython3",
   "version": "3.8.15"
  },
  "orig_nbformat": 4,
  "vscode": {
   "interpreter": {
    "hash": "f6c9a02d1e49f2feb0acb21ff4b60ef8b8b9773bb7d605f77519aeb93141fee4"
   }
  }
 },
 "nbformat": 4,
 "nbformat_minor": 2
}
