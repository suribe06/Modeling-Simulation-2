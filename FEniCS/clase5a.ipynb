{
 "cells": [
  {
   "cell_type": "code",
   "execution_count": 1,
   "metadata": {},
   "outputs": [],
   "source": [
    "from fenics import *\n",
    "import numpy as np\n",
    "import matplotlib.pyplot as plt\n",
    "fid = File(\"heat2/solution.pvd\")"
   ]
  },
  {
   "cell_type": "code",
   "execution_count": 2,
   "metadata": {},
   "outputs": [],
   "source": [
    "T = 10.0 # final time\n",
    "num_steps = 10 # number of time steps\n",
    "dt = T / num_steps # time step size\n",
    "alpha = 3 # parameter alpha\n",
    "beta = 1.2 # parameter beta"
   ]
  },
  {
   "cell_type": "code",
   "execution_count": 7,
   "metadata": {},
   "outputs": [],
   "source": [
    "# Create mesh and define function space\n",
    "nx = ny = 8\n",
    "mesh = UnitSquareMesh(nx, ny)\n",
    "V = FunctionSpace(mesh, 'Lagrange', 1)\n",
    "# Define boundary condition\n",
    "u_D = Expression('1 + x[0]*x[0] + alpha*x[1]*x[1] + beta*t',degree=2, alpha=alpha, beta=beta, t=0)"
   ]
  },
  {
   "cell_type": "code",
   "execution_count": 8,
   "metadata": {},
   "outputs": [],
   "source": [
    "def boundary(x, on_boundary):\n",
    "    return on_boundary\n",
    "bc = DirichletBC(V, u_D, boundary)"
   ]
  },
  {
   "cell_type": "code",
   "execution_count": 14,
   "metadata": {},
   "outputs": [
    {
     "data": {
      "image/png": "[encoded data removed]",
      "text/plain": [
       "<Figure size 432x288 with 1 Axes>"
      ]
     },
     "metadata": {
      "needs_background": "light"
     },
     "output_type": "display_data"
    }
   ],
   "source": [
    "# Define initial value\n",
    "u_n = interpolate(u_D, V)\n",
    "plot(u_n)\n",
    "plt.show()\n",
    "#u_n = project(u_D, V)\n",
    "# Define variational problem\n",
    "u = TrialFunction(V)\n",
    "v = TestFunction(V)\n",
    "f = Constant(beta - 2 - 2*alpha)\n",
    "a = u*v*dx + dt*inner(nabla_grad(u), nabla_grad(v))*dx\n",
    "L = (u_n + dt*f)*v*dx\n",
    "#Other way to set the variational problem in Fenics, lhs and rhs detect the bilinear and linear form in F\n",
    "#F = u*v*dx + dt*inner(nabla_grad(u), nabla_grad(v))*dx + (u_n + dt*f)*v*dx\n",
    "#a, L = lhs(F), rhs(F)\n",
    "# Time-stepping\n",
    "u = Function(V)\n",
    "t = 0"
   ]
  },
  {
   "attachments": {},
   "cell_type": "markdown",
   "metadata": {},
   "source": [
    "Recordemos que por Teorema de Green:\n",
    "$$ - \\int_{\\Omega}  \\Delta u v \\, dx = \\int_{\\Omega} \\nabla u \\nabla v \\, dx - \\int_{\\partial \\Omega} \\frac{\\partial u}{\\partial \\eta} v \\, dS $$"
   ]
  },
  {
   "attachments": {},
   "cell_type": "markdown",
   "metadata": {},
   "source": [
    "El problema variacional esta dado por:\n",
    "$$ \\int_{\\Omega} \\Big( u^kv + dt(\\nabla u^k \\cdot \\nabla v) \\Big)\\, dx =  \\int_{\\Omega} (u^{k-1} + dt f) v \\, dx$$\n",
    "con $f = \\beta - 2 - 2 \\alpha$. Por lo tanto:\n",
    "$$ \\int_{\\Omega} \\Big( u^kv  - (u^{k-1} + dt f) v \\Big) \\, dx = - \\int_{\\Omega} dt(\\nabla u^k \\cdot \\nabla v) \\, dx$$\n",
    "$$ \\int_{\\Omega} v ( u^k  - u^{k-1} - dt f ) \\, dx = - \\int_{\\Omega}  \\Delta u v \\, dx$$\n",
    "\n",
    "De donde, \n",
    "$$u^{k-1} = u^k - dt f$$\n",
    "$$\\frac{u^k - u^{k-1}}{dt} = f$$\n",
    "Pero \n",
    "$$ \\frac{\\partial u}{\\partial t} \\approx \\frac{u^k - u^{k-1}}{dt}$$\n",
    "Entonces:\n",
    "$$ \\int_{\\Omega} \\frac{\\partial u}{\\partial t} v \\, dx = \\int_{\\Omega} f v \\, dx - \\int_{\\Omega}  \\Delta u v \\, dx$$\n",
    "Y el problema esta dado por:\n",
    "$$ \\frac{\\partial u}{\\partial t} = -\\Delta u + f$$\n",
    "$$u = u_0 \\text{ on } \\partial \\Omega,$$"
   ]
  },
  {
   "cell_type": "code",
   "execution_count": 10,
   "metadata": {},
   "outputs": [
    {
     "name": "stdout",
     "output_type": "stream",
     "text": [
      "Solving linear variational problem.\n",
      "t = 1.00: error = 0.321\n",
      "Solving linear variational problem.\n",
      "t = 2.00: error = 0.238\n",
      "Solving linear variational problem.\n",
      "t = 3.00: error = 0.158\n",
      "Solving linear variational problem.\n",
      "t = 4.00: error = 0.0799\n",
      "Solving linear variational problem.\n",
      "t = 5.00: error = 0.0346\n",
      "Solving linear variational problem.\n",
      "t = 6.00: error = 0.103\n",
      "Solving linear variational problem.\n",
      "t = 7.00: error = 0.181\n",
      "Solving linear variational problem.\n",
      "t = 8.00: error = 0.26\n",
      "Solving linear variational problem.\n",
      "t = 9.00: error = 0.343\n",
      "Solving linear variational problem.\n",
      "t = 10.00: error = 0.426\n"
     ]
    },
    {
     "data": {
      "image/png": "[encoded data removed]",
      "text/plain": [
       "<Figure size 432x288 with 1 Axes>"
      ]
     },
     "metadata": {
      "needs_background": "light"
     },
     "output_type": "display_data"
    }
   ],
   "source": [
    "for n in range(num_steps):\n",
    "    # Update current time\n",
    "    t += dt\n",
    "    u_D.t = t\n",
    "    # Compute solution\n",
    "    solve(a == L, u, bc)\n",
    "    # Plot solution\n",
    "    plot(u)\n",
    "    # Compute error at vertices\n",
    "    u_e = interpolate(u_D, V)\n",
    "    error = np.abs(u_e.vector().get_local() - u.vector().get_local()).max()\n",
    "    print('t = %.2f: error = %.3g' % (t, error))\n",
    "    # Update previous solution\n",
    "    u_n.assign(u)\n",
    "    u.rename(\"u\", \"u\") #see the QA reported below.\n",
    "    fid << u, t\n",
    "\n",
    "# Hold plot\n",
    "plt.show()"
   ]
  }
 ],
 "metadata": {
  "kernelspec": {
   "display_name": "Python 3",
   "language": "python",
   "name": "python3"
  },
  "language_info": {
   "codemirror_mode": {
    "name": "ipython",
    "version": 3
   },
   "file_extension": ".py",
   "mimetype": "text/x-python",
   "name": "python",
   "nbconvert_exporter": "python",
   "pygments_lexer": "ipython3",
   "version": "3.8.15"
  },
  "orig_nbformat": 4,
  "vscode": {
   "interpreter": {
    "hash": "f6c9a02d1e49f2feb0acb21ff4b60ef8b8b9773bb7d605f77519aeb93141fee4"
   }
  }
 },
 "nbformat": 4,
 "nbformat_minor": 2
}
